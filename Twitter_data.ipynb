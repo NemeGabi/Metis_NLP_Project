{
 "cells": [
  {
   "cell_type": "markdown",
   "metadata": {},
   "source": [
    "# Unsupervised Learning Project - Natural Language Processing"
   ]
  },
  {
   "cell_type": "code",
   "execution_count": 11,
   "metadata": {
    "collapsed": true
   },
   "outputs": [
    {
     "name": "stdout",
     "output_type": "stream",
     "text": [
      "Requirement already up-to-date: textblob in /Users/gabriellanemeth/opt/anaconda3/lib/python3.8/site-packages (0.15.3)\n",
      "Requirement already satisfied, skipping upgrade: nltk>=3.1 in /Users/gabriellanemeth/opt/anaconda3/lib/python3.8/site-packages (from textblob) (3.5)\n",
      "Requirement already satisfied, skipping upgrade: tqdm in /Users/gabriellanemeth/opt/anaconda3/lib/python3.8/site-packages (from nltk>=3.1->textblob) (4.50.2)\n",
      "Requirement already satisfied, skipping upgrade: regex in /Users/gabriellanemeth/opt/anaconda3/lib/python3.8/site-packages (from nltk>=3.1->textblob) (2020.10.15)\n",
      "Requirement already satisfied, skipping upgrade: click in /Users/gabriellanemeth/opt/anaconda3/lib/python3.8/site-packages (from nltk>=3.1->textblob) (7.1.2)\n",
      "Requirement already satisfied, skipping upgrade: joblib in /Users/gabriellanemeth/opt/anaconda3/lib/python3.8/site-packages (from nltk>=3.1->textblob) (0.17.0)\n",
      "Note: you may need to restart the kernel to use updated packages.\n"
     ]
    }
   ],
   "source": [
    "pip install -U textblob"
   ]
  },
  {
   "cell_type": "code",
   "execution_count": 12,
   "metadata": {},
   "outputs": [],
   "source": [
    "import json\n",
    "import csv\n",
    "import tweepy\n",
    "import re\n",
    "import string\n",
    "from datetime import datetime, timedelta\n",
    "\n",
    "import pandas as pd\n",
    "\n",
    "import nltk\n",
    "from nltk.tokenize import word_tokenize\n",
    "from nltk.corpus import stopwords\n",
    "from nltk.stem import LancasterStemmer\n",
    "from sklearn.decomposition import NMF\n",
    "from sklearn.feature_extraction.text import CountVectorizer\n",
    "from sklearn.feature_extraction.text import TfidfVectorizer\n",
    "\n",
    "from textblob import TextBlob\n",
    "import matplotlib.pyplot as plt"
   ]
  },
  {
   "cell_type": "code",
   "execution_count": 13,
   "metadata": {},
   "outputs": [],
   "source": [
    "\"\"\"\n",
    "INPUTS:\n",
    "    consumer_key, consumer_secret, access_token, access_token_secret: codes \n",
    "    telling twitter that we are authorized to access this data\n",
    "    hashtag_phrase: the combination of hashtags to search for\n",
    "OUTPUTS:\n",
    "    none, simply save the tweet info to a spreadsheet\n",
    "\"\"\"\n",
    "def search_for_hashtags(consumer_key, consumer_secret, access_token, access_token_secret, hashtag_phrase):\n",
    "    \n",
    "    #create authentication for accessing Twitter\n",
    "    auth = tweepy.OAuthHandler(consumer_key, consumer_secret)\n",
    "    auth.set_access_token(access_token, access_token_secret)\n",
    "\n",
    "    #initialize Tweepy API\n",
    "    api = tweepy.API(auth)\n",
    "    \n",
    "    #get the name of the spreadsheet we will write to\n",
    "    fname = '_'.join(re.findall(r\"#(\\w+)\", hashtag_phrase))\n",
    "\n",
    "    #open the spreadsheet we will write to\n",
    "    with open('%s.csv' % (fname), 'w') as file:\n",
    "\n",
    "        w = csv.writer(file)\n",
    "\n",
    "        #write header row to spreadsheet\n",
    "        w.writerow(['timestamp', 'tweet_text', 'username', 'all_hashtags', 'followers_count'])\n",
    "\n",
    "        #for each tweet matching our hashtags, write relevant info to the spreadsheet\n",
    "        for tweet in tweepy.Cursor(api.search, q=hashtag_phrase+' -filter:retweets', \\\n",
    "                                   tweet_mode='extended').items(50000):\n",
    "            w.writerow([tweet.created_at, tweet.full_text.replace('\\n',' ').encode('ascii','ignore'), tweet.user.screen_name.encode('utf-8'), [e['text'] for e in tweet._json['entities']['hashtags']], tweet.user.followers_count])"
   ]
  },
  {
   "cell_type": "code",
   "execution_count": 14,
   "metadata": {
    "collapsed": true
   },
   "outputs": [
    {
     "ename": "KeyboardInterrupt",
     "evalue": "Interrupted by user",
     "output_type": "error",
     "traceback": [
      "\u001b[0;31m---------------------------------------------------------------------------\u001b[0m",
      "\u001b[0;31mKeyboardInterrupt\u001b[0m                         Traceback (most recent call last)",
      "\u001b[0;32m<ipython-input-14-97600f226d21>\u001b[0m in \u001b[0;36m<module>\u001b[0;34m\u001b[0m\n\u001b[0;32m----> 1\u001b[0;31m \u001b[0mconsumer_key\u001b[0m \u001b[0;34m=\u001b[0m \u001b[0minput\u001b[0m\u001b[0;34m(\u001b[0m\u001b[0;34m'Consumer Key '\u001b[0m\u001b[0;34m)\u001b[0m\u001b[0;34m\u001b[0m\u001b[0;34m\u001b[0m\u001b[0m\n\u001b[0m\u001b[1;32m      2\u001b[0m \u001b[0mconsumer_secret\u001b[0m \u001b[0;34m=\u001b[0m \u001b[0minput\u001b[0m\u001b[0;34m(\u001b[0m\u001b[0;34m'Consumer Secret '\u001b[0m\u001b[0;34m)\u001b[0m\u001b[0;34m\u001b[0m\u001b[0;34m\u001b[0m\u001b[0m\n\u001b[1;32m      3\u001b[0m \u001b[0maccess_token\u001b[0m \u001b[0;34m=\u001b[0m \u001b[0minput\u001b[0m\u001b[0;34m(\u001b[0m\u001b[0;34m'Access Token '\u001b[0m\u001b[0;34m)\u001b[0m\u001b[0;34m\u001b[0m\u001b[0;34m\u001b[0m\u001b[0m\n\u001b[1;32m      4\u001b[0m \u001b[0maccess_token_secret\u001b[0m \u001b[0;34m=\u001b[0m \u001b[0minput\u001b[0m\u001b[0;34m(\u001b[0m\u001b[0;34m'Access Token Secret '\u001b[0m\u001b[0;34m)\u001b[0m\u001b[0;34m\u001b[0m\u001b[0;34m\u001b[0m\u001b[0m\n\u001b[1;32m      5\u001b[0m \u001b[0;34m\u001b[0m\u001b[0m\n",
      "\u001b[0;32m~/opt/anaconda3/lib/python3.8/site-packages/ipykernel/kernelbase.py\u001b[0m in \u001b[0;36mraw_input\u001b[0;34m(self, prompt)\u001b[0m\n\u001b[1;32m    858\u001b[0m                 \u001b[0;34m\"raw_input was called, but this frontend does not support input requests.\"\u001b[0m\u001b[0;34m\u001b[0m\u001b[0;34m\u001b[0m\u001b[0m\n\u001b[1;32m    859\u001b[0m             )\n\u001b[0;32m--> 860\u001b[0;31m         return self._input_request(str(prompt),\n\u001b[0m\u001b[1;32m    861\u001b[0m             \u001b[0mself\u001b[0m\u001b[0;34m.\u001b[0m\u001b[0m_parent_ident\u001b[0m\u001b[0;34m,\u001b[0m\u001b[0;34m\u001b[0m\u001b[0;34m\u001b[0m\u001b[0m\n\u001b[1;32m    862\u001b[0m             \u001b[0mself\u001b[0m\u001b[0;34m.\u001b[0m\u001b[0m_parent_header\u001b[0m\u001b[0;34m,\u001b[0m\u001b[0;34m\u001b[0m\u001b[0;34m\u001b[0m\u001b[0m\n",
      "\u001b[0;32m~/opt/anaconda3/lib/python3.8/site-packages/ipykernel/kernelbase.py\u001b[0m in \u001b[0;36m_input_request\u001b[0;34m(self, prompt, ident, parent, password)\u001b[0m\n\u001b[1;32m    902\u001b[0m             \u001b[0;32mexcept\u001b[0m \u001b[0mKeyboardInterrupt\u001b[0m\u001b[0;34m:\u001b[0m\u001b[0;34m\u001b[0m\u001b[0;34m\u001b[0m\u001b[0m\n\u001b[1;32m    903\u001b[0m                 \u001b[0;31m# re-raise KeyboardInterrupt, to truncate traceback\u001b[0m\u001b[0;34m\u001b[0m\u001b[0;34m\u001b[0m\u001b[0;34m\u001b[0m\u001b[0m\n\u001b[0;32m--> 904\u001b[0;31m                 \u001b[0;32mraise\u001b[0m \u001b[0mKeyboardInterrupt\u001b[0m\u001b[0;34m(\u001b[0m\u001b[0;34m\"Interrupted by user\"\u001b[0m\u001b[0;34m)\u001b[0m \u001b[0;32mfrom\u001b[0m \u001b[0;32mNone\u001b[0m\u001b[0;34m\u001b[0m\u001b[0;34m\u001b[0m\u001b[0m\n\u001b[0m\u001b[1;32m    905\u001b[0m             \u001b[0;32mexcept\u001b[0m \u001b[0mException\u001b[0m \u001b[0;32mas\u001b[0m \u001b[0me\u001b[0m\u001b[0;34m:\u001b[0m\u001b[0;34m\u001b[0m\u001b[0;34m\u001b[0m\u001b[0m\n\u001b[1;32m    906\u001b[0m                 \u001b[0mself\u001b[0m\u001b[0;34m.\u001b[0m\u001b[0mlog\u001b[0m\u001b[0;34m.\u001b[0m\u001b[0mwarning\u001b[0m\u001b[0;34m(\u001b[0m\u001b[0;34m\"Invalid Message:\"\u001b[0m\u001b[0;34m,\u001b[0m \u001b[0mexc_info\u001b[0m\u001b[0;34m=\u001b[0m\u001b[0;32mTrue\u001b[0m\u001b[0;34m)\u001b[0m\u001b[0;34m\u001b[0m\u001b[0;34m\u001b[0m\u001b[0m\n",
      "\u001b[0;31mKeyboardInterrupt\u001b[0m: Interrupted by user"
     ]
    }
   ],
   "source": [
    "consumer_key = input('Consumer Key ')\n",
    "consumer_secret = input('Consumer Secret ')\n",
    "access_token = input('Access Token ')\n",
    "access_token_secret = input('Access Token Secret ')\n",
    "    \n",
    "hashtag_phrase = input('Hashtag Phrase ')\n",
    "\n",
    "if __name__ == '__main__':\n",
    "    search_for_hashtags(consumer_key, consumer_secret, access_token, access_token_secret, hashtag_phrase)"
   ]
  },
  {
   "cell_type": "code",
   "execution_count": 15,
   "metadata": {},
   "outputs": [],
   "source": [
    "df = pd.read_csv('Hungary_Hungarian 22.48.21_OLD.csv')"
   ]
  },
  {
   "cell_type": "markdown",
   "metadata": {},
   "source": [
    "# Text preprocessing"
   ]
  },
  {
   "cell_type": "code",
   "execution_count": 16,
   "metadata": {},
   "outputs": [],
   "source": [
    "pd.set_option('display.max_colwidth', None)"
   ]
  },
  {
   "cell_type": "code",
   "execution_count": 17,
   "metadata": {},
   "outputs": [
    {
     "data": {
      "text/html": [
       "<div>\n",
       "<style scoped>\n",
       "    .dataframe tbody tr th:only-of-type {\n",
       "        vertical-align: middle;\n",
       "    }\n",
       "\n",
       "    .dataframe tbody tr th {\n",
       "        vertical-align: top;\n",
       "    }\n",
       "\n",
       "    .dataframe thead th {\n",
       "        text-align: right;\n",
       "    }\n",
       "</style>\n",
       "<table border=\"1\" class=\"dataframe\">\n",
       "  <thead>\n",
       "    <tr style=\"text-align: right;\">\n",
       "      <th></th>\n",
       "      <th>timestamp</th>\n",
       "      <th>tweet_text</th>\n",
       "      <th>username</th>\n",
       "      <th>all_hashtags</th>\n",
       "      <th>followers_count</th>\n",
       "    </tr>\n",
       "  </thead>\n",
       "  <tbody>\n",
       "    <tr>\n",
       "      <th>57</th>\n",
       "      <td>2021-07-15 15:25:44</td>\n",
       "      <td>b'@MattiaSimone97 The best bit is #poland would be absolutely fine outside the block as it stands so would #Hungary. If you punish them they will definitely say F off &amp;amp; go . Interesting times Hope they leave .'</td>\n",
       "      <td>b'brexitbadboy'</td>\n",
       "      <td>['poland', 'Hungary']</td>\n",
       "      <td>668</td>\n",
       "    </tr>\n",
       "    <tr>\n",
       "      <th>384</th>\n",
       "      <td>2021-07-13 11:14:58</td>\n",
       "      <td>b'Good morning Budapest \\xf0\\x9f\\x98\\x8d\\xf0\\x9f\\x98\\x8d\\xf0\\x9f\\x98\\x8d #Parlament #orsz\\xc3\\xa1gh\\xc3\\xa1z #budapest #hungary #sunrise #Parliament #GoodMorningTwitterWorld #WednesdayMotivation #photography #photoofhungary #throwback #cityscape #hungary https://t.co/QSK8hkotyw'</td>\n",
       "      <td>b'AgotaSimonPhot1'</td>\n",
       "      <td>['Parlament', 'országház', 'budapest', 'hungary', 'sunrise', 'Parliament', 'GoodMorningTwitterWorld', 'WednesdayMotivation', 'photography', 'photoofhungary', 'throwback', 'cityscape', 'hungary']</td>\n",
       "      <td>8</td>\n",
       "    </tr>\n",
       "    <tr>\n",
       "      <th>141</th>\n",
       "      <td>2021-07-15 11:12:24</td>\n",
       "      <td>b'Good news for #Hungary.  https://t.co/PV1kIke89k'</td>\n",
       "      <td>b'Visegrad_PostEN'</td>\n",
       "      <td>['Hungary']</td>\n",
       "      <td>945</td>\n",
       "    </tr>\n",
       "    <tr>\n",
       "      <th>1215</th>\n",
       "      <td>2021-07-08 11:48:18</td>\n",
       "      <td>b'Fun experiment with Reetta. Will continue with these little studies and change of palette, and see where it leads.   Reetta Riikonen (EF 91) Oil on panel, 18cm x 23cm  #painting #dance #celf #dawns #experiment #wales #hungary #finland #howdoestitaniumwhitework? https://t.co/rLrECFOt4m'</td>\n",
       "      <td>b'carlchapple'</td>\n",
       "      <td>['painting', 'dance', 'celf', 'dawns', 'experiment', 'wales', 'hungary', 'finland', 'howdoestitaniumwhitework']</td>\n",
       "      <td>738</td>\n",
       "    </tr>\n",
       "    <tr>\n",
       "      <th>669</th>\n",
       "      <td>2021-07-11 09:10:11</td>\n",
       "      <td>b'#EFOpen #Hungary Results race 2. #MsportXtra @EF_Open https://t.co/lg1Pu9qV7o'</td>\n",
       "      <td>b'MsportXtra'</td>\n",
       "      <td>['EFOpen', 'Hungary', 'MsportXtra']</td>\n",
       "      <td>6864</td>\n",
       "    </tr>\n",
       "  </tbody>\n",
       "</table>\n",
       "</div>"
      ],
      "text/plain": [
       "                timestamp  \\\n",
       "57    2021-07-15 15:25:44   \n",
       "384   2021-07-13 11:14:58   \n",
       "141   2021-07-15 11:12:24   \n",
       "1215  2021-07-08 11:48:18   \n",
       "669   2021-07-11 09:10:11   \n",
       "\n",
       "                                                                                                                                                                                                                                                                                            tweet_text  \\\n",
       "57                                                                              b'@MattiaSimone97 The best bit is #poland would be absolutely fine outside the block as it stands so would #Hungary. If you punish them they will definitely say F off &amp; go . Interesting times Hope they leave .'   \n",
       "384            b'Good morning Budapest \\xf0\\x9f\\x98\\x8d\\xf0\\x9f\\x98\\x8d\\xf0\\x9f\\x98\\x8d #Parlament #orsz\\xc3\\xa1gh\\xc3\\xa1z #budapest #hungary #sunrise #Parliament #GoodMorningTwitterWorld #WednesdayMotivation #photography #photoofhungary #throwback #cityscape #hungary https://t.co/QSK8hkotyw'   \n",
       "141                                                                                                                                                                                                                                                b'Good news for #Hungary.  https://t.co/PV1kIke89k'   \n",
       "1215  b'Fun experiment with Reetta. Will continue with these little studies and change of palette, and see where it leads.   Reetta Riikonen (EF 91) Oil on panel, 18cm x 23cm  #painting #dance #celf #dawns #experiment #wales #hungary #finland #howdoestitaniumwhitework? https://t.co/rLrECFOt4m'   \n",
       "669                                                                                                                                                                                                                   b'#EFOpen #Hungary Results race 2. #MsportXtra @EF_Open https://t.co/lg1Pu9qV7o'   \n",
       "\n",
       "                username  \\\n",
       "57       b'brexitbadboy'   \n",
       "384   b'AgotaSimonPhot1'   \n",
       "141   b'Visegrad_PostEN'   \n",
       "1215      b'carlchapple'   \n",
       "669        b'MsportXtra'   \n",
       "\n",
       "                                                                                                                                                                                            all_hashtags  \\\n",
       "57                                                                                                                                                                                 ['poland', 'Hungary']   \n",
       "384   ['Parlament', 'országház', 'budapest', 'hungary', 'sunrise', 'Parliament', 'GoodMorningTwitterWorld', 'WednesdayMotivation', 'photography', 'photoofhungary', 'throwback', 'cityscape', 'hungary']   \n",
       "141                                                                                                                                                                                          ['Hungary']   \n",
       "1215                                                                                     ['painting', 'dance', 'celf', 'dawns', 'experiment', 'wales', 'hungary', 'finland', 'howdoestitaniumwhitework']   \n",
       "669                                                                                                                                                                  ['EFOpen', 'Hungary', 'MsportXtra']   \n",
       "\n",
       "      followers_count  \n",
       "57                668  \n",
       "384                 8  \n",
       "141               945  \n",
       "1215              738  \n",
       "669              6864  "
      ]
     },
     "execution_count": 17,
     "metadata": {},
     "output_type": "execute_result"
    }
   ],
   "source": [
    "df.sample(5)"
   ]
  },
  {
   "cell_type": "code",
   "execution_count": 18,
   "metadata": {},
   "outputs": [
    {
     "data": {
      "text/plain": [
       "(1395, 5)"
      ]
     },
     "execution_count": 18,
     "metadata": {},
     "output_type": "execute_result"
    }
   ],
   "source": [
    "df.shape"
   ]
  },
  {
   "cell_type": "code",
   "execution_count": 19,
   "metadata": {},
   "outputs": [
    {
     "data": {
      "text/plain": [
       "Index(['timestamp', 'tweet_text', 'username', 'all_hashtags',\n",
       "       'followers_count'],\n",
       "      dtype='object')"
      ]
     },
     "execution_count": 19,
     "metadata": {},
     "output_type": "execute_result"
    }
   ],
   "source": [
    "df.columns"
   ]
  },
  {
   "cell_type": "code",
   "execution_count": 20,
   "metadata": {},
   "outputs": [
    {
     "data": {
      "text/plain": [
       "'2021-07-07 16:27:29'"
      ]
     },
     "execution_count": 20,
     "metadata": {},
     "output_type": "execute_result"
    }
   ],
   "source": [
    "df.timestamp.min()"
   ]
  },
  {
   "cell_type": "code",
   "execution_count": 21,
   "metadata": {},
   "outputs": [
    {
     "data": {
      "text/plain": [
       "'2021-07-15 21:36:51'"
      ]
     },
     "execution_count": 21,
     "metadata": {},
     "output_type": "execute_result"
    }
   ],
   "source": [
    "df.timestamp.max()"
   ]
  },
  {
   "cell_type": "code",
   "execution_count": 22,
   "metadata": {},
   "outputs": [
    {
     "name": "stdout",
     "output_type": "stream",
     "text": [
      "<class 'pandas.core.frame.DataFrame'>\n",
      "RangeIndex: 1395 entries, 0 to 1394\n",
      "Data columns (total 5 columns):\n",
      " #   Column           Non-Null Count  Dtype \n",
      "---  ------           --------------  ----- \n",
      " 0   timestamp        1395 non-null   object\n",
      " 1   tweet_text       1395 non-null   object\n",
      " 2   username         1395 non-null   object\n",
      " 3   all_hashtags     1395 non-null   object\n",
      " 4   followers_count  1395 non-null   int64 \n",
      "dtypes: int64(1), object(4)\n",
      "memory usage: 54.6+ KB\n"
     ]
    }
   ],
   "source": [
    "df.info()"
   ]
  },
  {
   "cell_type": "code",
   "execution_count": 23,
   "metadata": {},
   "outputs": [
    {
     "data": {
      "text/plain": [
       "b'DNewsHungary'       56\n",
       "b'bbj_hu'             33\n",
       "b'VOSTeurope'         23\n",
       "b'XpatLoop'           13\n",
       "b'AATSEEL_Tweets'     11\n",
       "b'AllSportDB'         10\n",
       "b'tamasivankovacs'     9\n",
       "b'Susan_Larson_TN'     9\n",
       "b'FreelanceJobRSS'     9\n",
       "b'ggreilinger'         8\n",
       "Name: username, dtype: int64"
      ]
     },
     "execution_count": 23,
     "metadata": {},
     "output_type": "execute_result"
    }
   ],
   "source": [
    "df.username.value_counts().head(10)"
   ]
  },
  {
   "cell_type": "code",
   "execution_count": 24,
   "metadata": {},
   "outputs": [
    {
     "data": {
      "text/plain": [
       "4723059"
      ]
     },
     "execution_count": 24,
     "metadata": {},
     "output_type": "execute_result"
    }
   ],
   "source": [
    "df.followers_count.max()"
   ]
  },
  {
   "cell_type": "code",
   "execution_count": 25,
   "metadata": {},
   "outputs": [
    {
     "data": {
      "text/plain": [
       "1203"
      ]
     },
     "execution_count": 25,
     "metadata": {},
     "output_type": "execute_result"
    }
   ],
   "source": [
    "df.followers_count.argmax()"
   ]
  },
  {
   "cell_type": "code",
   "execution_count": 26,
   "metadata": {},
   "outputs": [
    {
     "data": {
      "text/plain": [
       "'b\"In the wake of #Hungary\\'s dehumanizing new anti-#LGBT law, is the EU finally getting serious about the authoritarian government in its member state?   Daily Brief: https://t.co/KqPDIh6Wbt https://t.co/JVusHQQOkg\"'"
      ]
     },
     "execution_count": 26,
     "metadata": {},
     "output_type": "execute_result"
    }
   ],
   "source": [
    "df.iloc[1203]['tweet_text']"
   ]
  },
  {
   "cell_type": "code",
   "execution_count": 27,
   "metadata": {},
   "outputs": [
    {
     "data": {
      "text/plain": [
       "97     b'Overheated race for #public #money, where only a 14 minutes window of opportunity was available for submission. It reminds me of High-Frequency Trading, where #data transmission speed makes a difference. #EU #Hungary #funding  blob:https://t.co/DjnmSykh4a'\n",
       "83                                                                        b\"@EU_Justice Are you getting all the info on #Hungary? If you read Europa, don't miss out on what 8 other sources have to say #LGBTQ #Politics #EuropeanUnion #Poland https://t.co/2yX3fFrpjV\"\n",
       "561                                                                  b'FOURTH WAVE POSSIBLE IN #HUNGARY SAYS VIROLOGIST  *************** Enjoy More News, Information &amp; Inspiration on https://t.co/qbyJG5JWsE - Your Expat Community Portal https://t.co/jV8Cp6xC0T'\n",
       "750                                                                                                                         b'My dinner is served! #Hungarian #cuisine \\xe2\\x9d\\xa4\\xef\\xb8\\x8f\\xf0\\x9f\\x87\\xad\\xf0\\x9f\\x87\\xba @HungarianCorner https://t.co/yXbQpcyXc2'\n",
       "981                                                                                                                  b'Can my Polish or Hungarian friends let me have their thoughts on Poland and Hungary being dictatorships? #Hungary #Poland https://t.co/LUn3YY82qG'\n",
       "Name: tweet_text, dtype: object"
      ]
     },
     "execution_count": 27,
     "metadata": {},
     "output_type": "execute_result"
    }
   ],
   "source": [
    "df.tweet_text.sample(5)"
   ]
  },
  {
   "cell_type": "markdown",
   "metadata": {},
   "source": [
    "# Cleaning"
   ]
  },
  {
   "cell_type": "markdown",
   "metadata": {},
   "source": [
    "During the cleaning process the below items will be removed/changed: \n",
    " - removed URLs, punctuation, numbers, stopwords, foreign characters caused words - starts with 'x'\n",
    " - changed to lowercase"
   ]
  },
  {
   "cell_type": "code",
   "execution_count": 28,
   "metadata": {},
   "outputs": [],
   "source": [
    "def remove_URL(tweet):\n",
    "    tweet = tweet[1:]\n",
    "    tweet = tweet.split()\n",
    "    new_tweet = []\n",
    "    for words in tweet:\n",
    "        if 'http' in words:\n",
    "            new_tweet.append(words.replace(words, ''))\n",
    "        else:\n",
    "            new_tweet.append(words)\n",
    "    return ' '.join(new_tweet)"
   ]
  },
  {
   "cell_type": "code",
   "execution_count": 29,
   "metadata": {},
   "outputs": [],
   "source": [
    "alphanumeric = lambda x: re.sub('\\w*\\d\\w*', ' ', x.lower())\n",
    "punc = lambda x: re.sub('[%s]' % re.escape(string.punctuation), ' ', x)"
   ]
  },
  {
   "cell_type": "code",
   "execution_count": 30,
   "metadata": {},
   "outputs": [],
   "source": [
    "def remove_stop_words(word_token):\n",
    "    \n",
    "    stop_words = set(stopwords.words('english'))\n",
    "    \n",
    "    word_tokens = word_token.split()\n",
    "\n",
    "    tweet_clear = []\n",
    "\n",
    "    for w in word_tokens:\n",
    "        if w not in stop_words:\n",
    "            tweet_clear.append(w)\n",
    "\n",
    "    return ' '.join(tweet_clear)"
   ]
  },
  {
   "cell_type": "code",
   "execution_count": 31,
   "metadata": {},
   "outputs": [],
   "source": [
    "def extra_cleaning(text):\n",
    "    text = text.split()\n",
    "    new = []\n",
    "    for word in text:\n",
    "        if word[0] == 'x':\n",
    "            continue\n",
    "        elif word == \"hungary\": \n",
    "            continue\n",
    "        elif word == \"hungarian\":\n",
    "            continue        \n",
    "        else:\n",
    "            new.append(word)\n",
    "    return ' '.join(new)"
   ]
  },
  {
   "cell_type": "code",
   "execution_count": 32,
   "metadata": {},
   "outputs": [],
   "source": [
    "df['tweet_text_cleaned'] = df['tweet_text'].apply(remove_URL)"
   ]
  },
  {
   "cell_type": "code",
   "execution_count": 33,
   "metadata": {},
   "outputs": [],
   "source": [
    "df['tweet_text_cleaned'] = df.tweet_text_cleaned.map(alphanumeric).map(punc)"
   ]
  },
  {
   "cell_type": "code",
   "execution_count": 34,
   "metadata": {},
   "outputs": [],
   "source": [
    "df['tweet_text_cleaned'] = df['tweet_text_cleaned'].apply(remove_stop_words)"
   ]
  },
  {
   "cell_type": "code",
   "execution_count": 35,
   "metadata": {},
   "outputs": [],
   "source": [
    "df['tweet_text_cleaned'] = df['tweet_text_cleaned'].apply(extra_cleaning)"
   ]
  },
  {
   "cell_type": "code",
   "execution_count": 36,
   "metadata": {},
   "outputs": [
    {
     "data": {
      "text/plain": [
       "569                                                                                                                                                                          comments bad behaviour cost eur football\n",
       "1201                                                                                      law affecting lgbt rights european union debating bring country line fundamental values activists vowing civil disobedience\n",
       "475                                              forget treat kindness others treat kindness weekend weekend kindness kindnessmatters wellbeing wellness healthy mondaymotivation motivationmonday motivationalmonday\n",
       "738     poland yr bond auction bust mum monetary policy non rez ownership w green variety turn earth day eur million issue oversubscribed yield warsaw exchange listed co energy ebrd eur million buy emergingmarkets\n",
       "1329                                 orangealert due thunderstorm southern great plain central southern transdanubia western transdanubia northern great plain northern central transdanubia ending cet severeweather\n",
       "Name: tweet_text_cleaned, dtype: object"
      ]
     },
     "execution_count": 36,
     "metadata": {},
     "output_type": "execute_result"
    }
   ],
   "source": [
    "df['tweet_text_cleaned'].sample(5)"
   ]
  },
  {
   "cell_type": "code",
   "execution_count": 37,
   "metadata": {},
   "outputs": [],
   "source": [
    "df2 = df.copy()"
   ]
  },
  {
   "cell_type": "code",
   "execution_count": 38,
   "metadata": {},
   "outputs": [
    {
     "name": "stdout",
     "output_type": "stream",
     "text": [
      "6776\n",
      "[[0 0 0 ... 0 0 0]\n",
      " [0 0 0 ... 0 0 0]\n",
      " [0 0 0 ... 0 0 0]\n",
      " ...\n",
      " [0 0 0 ... 0 0 0]\n",
      " [0 0 0 ... 0 0 0]\n",
      " [0 0 0 ... 0 0 0]]\n"
     ]
    }
   ],
   "source": [
    "corpus = df2['tweet_text_cleaned']\n",
    "\n",
    "vectorizer = CountVectorizer()\n",
    "X = vectorizer.fit_transform(corpus)\n",
    "print(len(vectorizer.get_feature_names()))\n",
    "print(X.toarray())"
   ]
  },
  {
   "cell_type": "markdown",
   "metadata": {},
   "source": [
    "# Modeling"
   ]
  },
  {
   "cell_type": "markdown",
   "metadata": {},
   "source": [
    "As the dataset has short documents the <b>non-negative matrix factorization</b> would give us the best resulte for the possible topics"
   ]
  },
  {
   "cell_type": "code",
   "execution_count": 39,
   "metadata": {},
   "outputs": [],
   "source": [
    "nmf = NMF(n_components=10)\n",
    "\n",
    "doc_topic = nmf.fit(X)"
   ]
  },
  {
   "cell_type": "code",
   "execution_count": 40,
   "metadata": {},
   "outputs": [],
   "source": [
    "tweet_topic_matrix = nmf.transform(X)"
   ]
  },
  {
   "cell_type": "code",
   "execution_count": 41,
   "metadata": {
    "scrolled": true
   },
   "outputs": [
    {
     "data": {
      "text/html": [
       "<div>\n",
       "<style scoped>\n",
       "    .dataframe tbody tr th:only-of-type {\n",
       "        vertical-align: middle;\n",
       "    }\n",
       "\n",
       "    .dataframe tbody tr th {\n",
       "        vertical-align: top;\n",
       "    }\n",
       "\n",
       "    .dataframe thead th {\n",
       "        text-align: right;\n",
       "    }\n",
       "</style>\n",
       "<table border=\"1\" class=\"dataframe\">\n",
       "  <thead>\n",
       "    <tr style=\"text-align: right;\">\n",
       "      <th></th>\n",
       "      <th>topic_0</th>\n",
       "      <th>topic_1</th>\n",
       "      <th>topic_2</th>\n",
       "      <th>topic_3</th>\n",
       "      <th>topic_4</th>\n",
       "      <th>topic_5</th>\n",
       "      <th>topic_6</th>\n",
       "      <th>topic_7</th>\n",
       "      <th>topic_8</th>\n",
       "      <th>topic_9</th>\n",
       "      <th>raw_tweets</th>\n",
       "      <th>clean_tweets</th>\n",
       "    </tr>\n",
       "  </thead>\n",
       "  <tbody>\n",
       "    <tr>\n",
       "      <th>0</th>\n",
       "      <td>0.000000</td>\n",
       "      <td>0.0</td>\n",
       "      <td>0.016369</td>\n",
       "      <td>0.002946</td>\n",
       "      <td>0.017207</td>\n",
       "      <td>0.000000</td>\n",
       "      <td>0.019593</td>\n",
       "      <td>0.012855</td>\n",
       "      <td>0.068564</td>\n",
       "      <td>0.00000</td>\n",
       "      <td>b'#Cocaine stash worth \\xe2\\x82\\xac9m lands on roof of home in Sardinia. \"Rizzo was working as a pilot for a #Hungary company and flying wealthy people around when he was arrested at Cagliari Elmas airport after landing a flight from Germany .\" https://t.co/LBxvqcurKK'</td>\n",
       "      <td>cocaine stash worth lands roof home sardinia rizzo working pilot company flying wealthy people around arrested cagliari elmas airport landing flight germany</td>\n",
       "    </tr>\n",
       "    <tr>\n",
       "      <th>1</th>\n",
       "      <td>0.000406</td>\n",
       "      <td>0.0</td>\n",
       "      <td>0.000535</td>\n",
       "      <td>0.000322</td>\n",
       "      <td>0.000000</td>\n",
       "      <td>0.001042</td>\n",
       "      <td>0.003630</td>\n",
       "      <td>0.001550</td>\n",
       "      <td>0.000000</td>\n",
       "      <td>0.00000</td>\n",
       "      <td>b'Hilarious \\xf0\\x9f\\xa4\\xa3 - Are you afraid of Sexual Harassment Panda? #Hungary https://t.co/vkFMBk3t8J'</td>\n",
       "      <td>hilarious afraid sexual harassment panda</td>\n",
       "    </tr>\n",
       "    <tr>\n",
       "      <th>2</th>\n",
       "      <td>0.141600</td>\n",
       "      <td>0.0</td>\n",
       "      <td>0.331099</td>\n",
       "      <td>0.116986</td>\n",
       "      <td>0.000000</td>\n",
       "      <td>0.251801</td>\n",
       "      <td>0.000000</td>\n",
       "      <td>0.000000</td>\n",
       "      <td>0.000000</td>\n",
       "      <td>0.00000</td>\n",
       "      <td>b'#EU takes legal action against #Hungary, #Poland over #LGBTQ rights The legal cases could eventually land the two member states in the bloc\\xe2\\x80\\x99s highest court. https://t.co/KFYGbprovF'</td>\n",
       "      <td>eu takes legal action poland lgbtq rights legal cases could eventually land two member states bloc highest court</td>\n",
       "    </tr>\n",
       "    <tr>\n",
       "      <th>3</th>\n",
       "      <td>0.154353</td>\n",
       "      <td>0.0</td>\n",
       "      <td>0.137020</td>\n",
       "      <td>0.000000</td>\n",
       "      <td>0.013779</td>\n",
       "      <td>0.000000</td>\n",
       "      <td>0.000000</td>\n",
       "      <td>0.000000</td>\n",
       "      <td>0.006473</td>\n",
       "      <td>0.00045</td>\n",
       "      <td>b'#EU #Poland  Somehow I doubt that we will see a #Polexit ... that might be followed by potential #Hungary leaving  ... If one or both would leave, the entire organization might fold down  #ToBeContinued   https://t.co/QoFcSu6v8o'</td>\n",
       "      <td>eu poland somehow doubt see polexit might followed potential leaving one would leave entire organization might fold tobecontinued</td>\n",
       "    </tr>\n",
       "    <tr>\n",
       "      <th>4</th>\n",
       "      <td>0.138778</td>\n",
       "      <td>0.0</td>\n",
       "      <td>0.289050</td>\n",
       "      <td>0.000000</td>\n",
       "      <td>0.000000</td>\n",
       "      <td>0.245385</td>\n",
       "      <td>0.000000</td>\n",
       "      <td>0.000000</td>\n",
       "      <td>0.000000</td>\n",
       "      <td>0.00000</td>\n",
       "      <td>b'#EU launches legal action against #Hungary and #Poland for violating #rights_LGBTQ+ citizens World News \\xc2\\xb7'</td>\n",
       "      <td>eu launches legal action poland violating rights lgbtq citizens world news</td>\n",
       "    </tr>\n",
       "  </tbody>\n",
       "</table>\n",
       "</div>"
      ],
      "text/plain": [
       "    topic_0  topic_1   topic_2   topic_3   topic_4   topic_5   topic_6  \\\n",
       "0  0.000000      0.0  0.016369  0.002946  0.017207  0.000000  0.019593   \n",
       "1  0.000406      0.0  0.000535  0.000322  0.000000  0.001042  0.003630   \n",
       "2  0.141600      0.0  0.331099  0.116986  0.000000  0.251801  0.000000   \n",
       "3  0.154353      0.0  0.137020  0.000000  0.013779  0.000000  0.000000   \n",
       "4  0.138778      0.0  0.289050  0.000000  0.000000  0.245385  0.000000   \n",
       "\n",
       "    topic_7   topic_8  topic_9  \\\n",
       "0  0.012855  0.068564  0.00000   \n",
       "1  0.001550  0.000000  0.00000   \n",
       "2  0.000000  0.000000  0.00000   \n",
       "3  0.000000  0.006473  0.00045   \n",
       "4  0.000000  0.000000  0.00000   \n",
       "\n",
       "                                                                                                                                                                                                                                                                      raw_tweets  \\\n",
       "0  b'#Cocaine stash worth \\xe2\\x82\\xac9m lands on roof of home in Sardinia. \"Rizzo was working as a pilot for a #Hungary company and flying wealthy people around when he was arrested at Cagliari Elmas airport after landing a flight from Germany .\" https://t.co/LBxvqcurKK'   \n",
       "1                                                                                                                                                                    b'Hilarious \\xf0\\x9f\\xa4\\xa3 - Are you afraid of Sexual Harassment Panda? #Hungary https://t.co/vkFMBk3t8J'   \n",
       "2                                                                             b'#EU takes legal action against #Hungary, #Poland over #LGBTQ rights The legal cases could eventually land the two member states in the bloc\\xe2\\x80\\x99s highest court. https://t.co/KFYGbprovF'   \n",
       "3                                        b'#EU #Poland  Somehow I doubt that we will see a #Polexit ... that might be followed by potential #Hungary leaving  ... If one or both would leave, the entire organization might fold down  #ToBeContinued   https://t.co/QoFcSu6v8o'   \n",
       "4                                                                                                                                                            b'#EU launches legal action against #Hungary and #Poland for violating #rights_LGBTQ+ citizens World News \\xc2\\xb7'   \n",
       "\n",
       "                                                                                                                                                   clean_tweets  \n",
       "0  cocaine stash worth lands roof home sardinia rizzo working pilot company flying wealthy people around arrested cagliari elmas airport landing flight germany  \n",
       "1                                                                                                                      hilarious afraid sexual harassment panda  \n",
       "2                                              eu takes legal action poland lgbtq rights legal cases could eventually land two member states bloc highest court  \n",
       "3                             eu poland somehow doubt see polexit might followed potential leaving one would leave entire organization might fold tobecontinued  \n",
       "4                                                                                    eu launches legal action poland violating rights lgbtq citizens world news  "
      ]
     },
     "execution_count": 41,
     "metadata": {},
     "output_type": "execute_result"
    }
   ],
   "source": [
    "tweet_topic_matrix_df = pd.DataFrame(tweet_topic_matrix).add_prefix('topic_')\n",
    "\n",
    "tweet_topic_matrix_df[['raw_tweets', 'clean_tweets']] = df2[['tweet_text', 'tweet_text_cleaned']]\n",
    "tweet_topic_matrix_df.head(5)"
   ]
  },
  {
   "cell_type": "code",
   "execution_count": 42,
   "metadata": {},
   "outputs": [
    {
     "data": {
      "text/html": [
       "<div>\n",
       "<style scoped>\n",
       "    .dataframe tbody tr th:only-of-type {\n",
       "        vertical-align: middle;\n",
       "    }\n",
       "\n",
       "    .dataframe tbody tr th {\n",
       "        vertical-align: top;\n",
       "    }\n",
       "\n",
       "    .dataframe thead th {\n",
       "        text-align: right;\n",
       "    }\n",
       "</style>\n",
       "<table border=\"1\" class=\"dataframe\">\n",
       "  <thead>\n",
       "    <tr style=\"text-align: right;\">\n",
       "      <th></th>\n",
       "      <th>topic_0</th>\n",
       "      <th>topic_1</th>\n",
       "      <th>topic_2</th>\n",
       "      <th>topic_3</th>\n",
       "      <th>topic_4</th>\n",
       "      <th>topic_5</th>\n",
       "      <th>topic_6</th>\n",
       "      <th>topic_7</th>\n",
       "      <th>topic_8</th>\n",
       "      <th>topic_9</th>\n",
       "    </tr>\n",
       "  </thead>\n",
       "  <tbody>\n",
       "    <tr>\n",
       "      <th>aa</th>\n",
       "      <td>0.000000</td>\n",
       "      <td>0.000000</td>\n",
       "      <td>0.000000</td>\n",
       "      <td>0.000000</td>\n",
       "      <td>0.000950</td>\n",
       "      <td>0.000000</td>\n",
       "      <td>0.000676</td>\n",
       "      <td>0.00000</td>\n",
       "      <td>0.002153</td>\n",
       "      <td>0.000000</td>\n",
       "    </tr>\n",
       "    <tr>\n",
       "      <th>aaahh</th>\n",
       "      <td>0.000000</td>\n",
       "      <td>0.000000</td>\n",
       "      <td>0.000175</td>\n",
       "      <td>0.000000</td>\n",
       "      <td>0.000188</td>\n",
       "      <td>0.000179</td>\n",
       "      <td>0.000000</td>\n",
       "      <td>0.00000</td>\n",
       "      <td>0.000124</td>\n",
       "      <td>0.000000</td>\n",
       "    </tr>\n",
       "    <tr>\n",
       "      <th>abandon</th>\n",
       "      <td>0.063910</td>\n",
       "      <td>0.006221</td>\n",
       "      <td>0.000000</td>\n",
       "      <td>0.046398</td>\n",
       "      <td>0.000000</td>\n",
       "      <td>0.000000</td>\n",
       "      <td>0.000000</td>\n",
       "      <td>0.00000</td>\n",
       "      <td>0.000000</td>\n",
       "      <td>0.007665</td>\n",
       "    </tr>\n",
       "    <tr>\n",
       "      <th>abandoned</th>\n",
       "      <td>0.000000</td>\n",
       "      <td>0.000000</td>\n",
       "      <td>0.000000</td>\n",
       "      <td>0.000000</td>\n",
       "      <td>0.000000</td>\n",
       "      <td>0.000000</td>\n",
       "      <td>0.034671</td>\n",
       "      <td>0.00907</td>\n",
       "      <td>0.000000</td>\n",
       "      <td>0.008787</td>\n",
       "    </tr>\n",
       "    <tr>\n",
       "      <th>abazina</th>\n",
       "      <td>0.000331</td>\n",
       "      <td>0.000000</td>\n",
       "      <td>0.000000</td>\n",
       "      <td>0.000000</td>\n",
       "      <td>0.000000</td>\n",
       "      <td>0.000013</td>\n",
       "      <td>0.000000</td>\n",
       "      <td>0.00025</td>\n",
       "      <td>0.001301</td>\n",
       "      <td>0.000423</td>\n",
       "    </tr>\n",
       "  </tbody>\n",
       "</table>\n",
       "</div>"
      ],
      "text/plain": [
       "            topic_0   topic_1   topic_2   topic_3   topic_4   topic_5  \\\n",
       "aa         0.000000  0.000000  0.000000  0.000000  0.000950  0.000000   \n",
       "aaahh      0.000000  0.000000  0.000175  0.000000  0.000188  0.000179   \n",
       "abandon    0.063910  0.006221  0.000000  0.046398  0.000000  0.000000   \n",
       "abandoned  0.000000  0.000000  0.000000  0.000000  0.000000  0.000000   \n",
       "abazina    0.000331  0.000000  0.000000  0.000000  0.000000  0.000013   \n",
       "\n",
       "            topic_6  topic_7   topic_8   topic_9  \n",
       "aa         0.000676  0.00000  0.002153  0.000000  \n",
       "aaahh      0.000000  0.00000  0.000124  0.000000  \n",
       "abandon    0.000000  0.00000  0.000000  0.007665  \n",
       "abandoned  0.034671  0.00907  0.000000  0.008787  \n",
       "abazina    0.000000  0.00025  0.001301  0.000423  "
      ]
     },
     "execution_count": 42,
     "metadata": {},
     "output_type": "execute_result"
    }
   ],
   "source": [
    "word_topic_matrix_df = pd.DataFrame(nmf.components_, columns=vectorizer.get_feature_names()).T.add_prefix('topic_')\n",
    "word_topic_matrix_df.head(5)"
   ]
  },
  {
   "cell_type": "code",
   "execution_count": 43,
   "metadata": {},
   "outputs": [
    {
     "data": {
      "text/html": [
       "<div>\n",
       "<style scoped>\n",
       "    .dataframe tbody tr th:only-of-type {\n",
       "        vertical-align: middle;\n",
       "    }\n",
       "\n",
       "    .dataframe tbody tr th {\n",
       "        vertical-align: top;\n",
       "    }\n",
       "\n",
       "    .dataframe thead th {\n",
       "        text-align: right;\n",
       "    }\n",
       "</style>\n",
       "<table border=\"1\" class=\"dataframe\">\n",
       "  <thead>\n",
       "    <tr style=\"text-align: right;\">\n",
       "      <th></th>\n",
       "      <th>topic_0</th>\n",
       "      <th>topic_1</th>\n",
       "      <th>topic_2</th>\n",
       "      <th>topic_3</th>\n",
       "      <th>topic_4</th>\n",
       "      <th>topic_5</th>\n",
       "      <th>topic_6</th>\n",
       "      <th>topic_7</th>\n",
       "      <th>topic_8</th>\n",
       "      <th>topic_9</th>\n",
       "    </tr>\n",
       "  </thead>\n",
       "  <tbody>\n",
       "    <tr>\n",
       "      <th>poland</th>\n",
       "      <td>0.000000</td>\n",
       "      <td>0.000000</td>\n",
       "      <td>4.107992</td>\n",
       "      <td>0.000289</td>\n",
       "      <td>0.0</td>\n",
       "      <td>0.000000</td>\n",
       "      <td>0.000000</td>\n",
       "      <td>0.000000</td>\n",
       "      <td>0.265484</td>\n",
       "      <td>0.002136</td>\n",
       "    </tr>\n",
       "    <tr>\n",
       "      <th>rights</th>\n",
       "      <td>0.001452</td>\n",
       "      <td>0.055304</td>\n",
       "      <td>2.319103</td>\n",
       "      <td>0.000000</td>\n",
       "      <td>0.0</td>\n",
       "      <td>0.062522</td>\n",
       "      <td>0.000000</td>\n",
       "      <td>0.166686</td>\n",
       "      <td>0.000000</td>\n",
       "      <td>0.000000</td>\n",
       "    </tr>\n",
       "    <tr>\n",
       "      <th>legal</th>\n",
       "      <td>0.136041</td>\n",
       "      <td>0.175842</td>\n",
       "      <td>1.299287</td>\n",
       "      <td>0.028515</td>\n",
       "      <td>0.0</td>\n",
       "      <td>0.032919</td>\n",
       "      <td>0.057636</td>\n",
       "      <td>0.000000</td>\n",
       "      <td>0.000000</td>\n",
       "      <td>0.000000</td>\n",
       "    </tr>\n",
       "    <tr>\n",
       "      <th>commission</th>\n",
       "      <td>0.800417</td>\n",
       "      <td>0.000512</td>\n",
       "      <td>0.940748</td>\n",
       "      <td>0.032783</td>\n",
       "      <td>0.0</td>\n",
       "      <td>0.000000</td>\n",
       "      <td>0.303810</td>\n",
       "      <td>0.004203</td>\n",
       "      <td>0.000000</td>\n",
       "      <td>0.000000</td>\n",
       "    </tr>\n",
       "    <tr>\n",
       "      <th>action</th>\n",
       "      <td>0.203963</td>\n",
       "      <td>0.517153</td>\n",
       "      <td>0.863837</td>\n",
       "      <td>0.000000</td>\n",
       "      <td>0.0</td>\n",
       "      <td>0.222845</td>\n",
       "      <td>0.000000</td>\n",
       "      <td>0.000000</td>\n",
       "      <td>0.000000</td>\n",
       "      <td>0.000000</td>\n",
       "    </tr>\n",
       "  </tbody>\n",
       "</table>\n",
       "</div>"
      ],
      "text/plain": [
       "             topic_0   topic_1   topic_2   topic_3  topic_4   topic_5  \\\n",
       "poland      0.000000  0.000000  4.107992  0.000289      0.0  0.000000   \n",
       "rights      0.001452  0.055304  2.319103  0.000000      0.0  0.062522   \n",
       "legal       0.136041  0.175842  1.299287  0.028515      0.0  0.032919   \n",
       "commission  0.800417  0.000512  0.940748  0.032783      0.0  0.000000   \n",
       "action      0.203963  0.517153  0.863837  0.000000      0.0  0.222845   \n",
       "\n",
       "             topic_6   topic_7   topic_8   topic_9  \n",
       "poland      0.000000  0.000000  0.265484  0.002136  \n",
       "rights      0.000000  0.166686  0.000000  0.000000  \n",
       "legal       0.057636  0.000000  0.000000  0.000000  \n",
       "commission  0.303810  0.004203  0.000000  0.000000  \n",
       "action      0.000000  0.000000  0.000000  0.000000  "
      ]
     },
     "execution_count": 43,
     "metadata": {},
     "output_type": "execute_result"
    }
   ],
   "source": [
    "word_topic_matrix_df.sort_values(by = ['topic_2'], ascending=False).head(5)"
   ]
  },
  {
   "cell_type": "code",
   "execution_count": 44,
   "metadata": {
    "scrolled": true
   },
   "outputs": [
    {
     "data": {
      "text/html": [
       "<div>\n",
       "<style scoped>\n",
       "    .dataframe tbody tr th:only-of-type {\n",
       "        vertical-align: middle;\n",
       "    }\n",
       "\n",
       "    .dataframe tbody tr th {\n",
       "        vertical-align: top;\n",
       "    }\n",
       "\n",
       "    .dataframe thead th {\n",
       "        text-align: right;\n",
       "    }\n",
       "</style>\n",
       "<table border=\"1\" class=\"dataframe\">\n",
       "  <thead>\n",
       "    <tr style=\"text-align: right;\">\n",
       "      <th></th>\n",
       "      <th>topic_0</th>\n",
       "      <th>topic_1</th>\n",
       "      <th>topic_2</th>\n",
       "      <th>topic_3</th>\n",
       "      <th>topic_4</th>\n",
       "      <th>topic_5</th>\n",
       "      <th>topic_6</th>\n",
       "      <th>topic_7</th>\n",
       "      <th>topic_8</th>\n",
       "      <th>topic_9</th>\n",
       "      <th>raw_tweets</th>\n",
       "      <th>clean_tweets</th>\n",
       "    </tr>\n",
       "  </thead>\n",
       "  <tbody>\n",
       "    <tr>\n",
       "      <th>135</th>\n",
       "      <td>0.479506</td>\n",
       "      <td>0.000000</td>\n",
       "      <td>0.528254</td>\n",
       "      <td>0.00000</td>\n",
       "      <td>0.000000</td>\n",
       "      <td>0.000000</td>\n",
       "      <td>0.000000</td>\n",
       "      <td>0.000000</td>\n",
       "      <td>0.0</td>\n",
       "      <td>0.0</td>\n",
       "      <td>b'EU founding values: Commission starts legal action against #Hungary and #Poland for violations of fundamental rights of #LGBTIQ people \"Equality and the respect for dignity and human rights are core values of the EU, enshrined in the EU Treaty https://t.co/cW2wBpfNCa #RuleOfLaw'</td>\n",
       "      <td>eu founding values commission starts legal action poland violations fundamental rights lgbtiq people equality respect dignity human rights core values eu enshrined eu treaty ruleoflaw</td>\n",
       "    </tr>\n",
       "    <tr>\n",
       "      <th>93</th>\n",
       "      <td>0.300145</td>\n",
       "      <td>0.053566</td>\n",
       "      <td>0.498554</td>\n",
       "      <td>0.03133</td>\n",
       "      <td>0.000370</td>\n",
       "      <td>0.000000</td>\n",
       "      <td>0.000670</td>\n",
       "      <td>0.000000</td>\n",
       "      <td>0.0</td>\n",
       "      <td>0.0</td>\n",
       "      <td>b\"Both #Hungary and #Poland show no sign of backing down after today's EU legal challenge to anti-gay policies.  The Commission's legal case is shaky here, especially against Poland which along with the UK negotiated an exemption to the EU Charter of Fundamental Rights in 2009. https://t.co/audf7i4S1n\"</td>\n",
       "      <td>poland show sign backing today eu legal challenge anti gay policies commission legal case shaky especially poland along uk negotiated exemption eu charter fundamental rights</td>\n",
       "    </tr>\n",
       "    <tr>\n",
       "      <th>29</th>\n",
       "      <td>0.276110</td>\n",
       "      <td>0.053678</td>\n",
       "      <td>0.464478</td>\n",
       "      <td>0.00000</td>\n",
       "      <td>0.006236</td>\n",
       "      <td>0.504273</td>\n",
       "      <td>0.010942</td>\n",
       "      <td>0.023096</td>\n",
       "      <td>0.0</td>\n",
       "      <td>0.0</td>\n",
       "      <td>b'EU launches legal action against Hungary, Poland over LGBTQ rights. Passers-by stand in front of the Brussels Town Hall and the rest of the histor.... https://t.co/X6vSXvmVvR #asia_news #eu #european_union #hungary #international #lgbt #lgbtq #news #phuket #poland #thaila... https://t.co/nXKHBvtoYt'</td>\n",
       "      <td>eu launches legal action poland lgbtq rights passers stand front brussels town hall rest histor asia news eu european union international lgbt lgbtq news phuket poland thaila</td>\n",
       "    </tr>\n",
       "    <tr>\n",
       "      <th>447</th>\n",
       "      <td>0.117763</td>\n",
       "      <td>0.000000</td>\n",
       "      <td>0.451565</td>\n",
       "      <td>0.00000</td>\n",
       "      <td>0.000000</td>\n",
       "      <td>0.000000</td>\n",
       "      <td>0.000000</td>\n",
       "      <td>0.000000</td>\n",
       "      <td>0.0</td>\n",
       "      <td>0.0</td>\n",
       "      <td>b'What Do Poland And Hungary Have In Common?  Poland and Hungary are both members of the European Union (EU) and the North Atlantic Treaty Organization (NATO).  For more details, visit the link #POLAND #Hungary  https://t.co/rn3xZRUiDd'</td>\n",
       "      <td>poland common poland members european union eu north atlantic treaty organization nato details visit link poland</td>\n",
       "    </tr>\n",
       "    <tr>\n",
       "      <th>138</th>\n",
       "      <td>0.123380</td>\n",
       "      <td>0.088443</td>\n",
       "      <td>0.441328</td>\n",
       "      <td>0.00000</td>\n",
       "      <td>0.000000</td>\n",
       "      <td>0.000000</td>\n",
       "      <td>0.000000</td>\n",
       "      <td>0.035445</td>\n",
       "      <td>0.0</td>\n",
       "      <td>0.0</td>\n",
       "      <td>b'EU launches legal action against Hungary, Poland over #LGBT rights  #EuropeanUnion #Hungary #Poland #HumanRights https://t.co/XCCmszcLTU'</td>\n",
       "      <td>eu launches legal action poland lgbt rights europeanunion poland humanrights</td>\n",
       "    </tr>\n",
       "  </tbody>\n",
       "</table>\n",
       "</div>"
      ],
      "text/plain": [
       "      topic_0   topic_1   topic_2  topic_3   topic_4   topic_5   topic_6  \\\n",
       "135  0.479506  0.000000  0.528254  0.00000  0.000000  0.000000  0.000000   \n",
       "93   0.300145  0.053566  0.498554  0.03133  0.000370  0.000000  0.000670   \n",
       "29   0.276110  0.053678  0.464478  0.00000  0.006236  0.504273  0.010942   \n",
       "447  0.117763  0.000000  0.451565  0.00000  0.000000  0.000000  0.000000   \n",
       "138  0.123380  0.088443  0.441328  0.00000  0.000000  0.000000  0.000000   \n",
       "\n",
       "      topic_7  topic_8  topic_9  \\\n",
       "135  0.000000      0.0      0.0   \n",
       "93   0.000000      0.0      0.0   \n",
       "29   0.023096      0.0      0.0   \n",
       "447  0.000000      0.0      0.0   \n",
       "138  0.035445      0.0      0.0   \n",
       "\n",
       "                                                                                                                                                                                                                                                                                                          raw_tweets  \\\n",
       "135                        b'EU founding values: Commission starts legal action against #Hungary and #Poland for violations of fundamental rights of #LGBTIQ people \"Equality and the respect for dignity and human rights are core values of the EU, enshrined in the EU Treaty https://t.co/cW2wBpfNCa #RuleOfLaw'   \n",
       "93   b\"Both #Hungary and #Poland show no sign of backing down after today's EU legal challenge to anti-gay policies.  The Commission's legal case is shaky here, especially against Poland which along with the UK negotiated an exemption to the EU Charter of Fundamental Rights in 2009. https://t.co/audf7i4S1n\"   \n",
       "29    b'EU launches legal action against Hungary, Poland over LGBTQ rights. Passers-by stand in front of the Brussels Town Hall and the rest of the histor.... https://t.co/X6vSXvmVvR #asia_news #eu #european_union #hungary #international #lgbt #lgbtq #news #phuket #poland #thaila... https://t.co/nXKHBvtoYt'   \n",
       "447                                                                     b'What Do Poland And Hungary Have In Common?  Poland and Hungary are both members of the European Union (EU) and the North Atlantic Treaty Organization (NATO).  For more details, visit the link #POLAND #Hungary  https://t.co/rn3xZRUiDd'   \n",
       "138                                                                                                                                                                      b'EU launches legal action against Hungary, Poland over #LGBT rights  #EuropeanUnion #Hungary #Poland #HumanRights https://t.co/XCCmszcLTU'   \n",
       "\n",
       "                                                                                                                                                                                clean_tweets  \n",
       "135  eu founding values commission starts legal action poland violations fundamental rights lgbtiq people equality respect dignity human rights core values eu enshrined eu treaty ruleoflaw  \n",
       "93             poland show sign backing today eu legal challenge anti gay policies commission legal case shaky especially poland along uk negotiated exemption eu charter fundamental rights  \n",
       "29            eu launches legal action poland lgbtq rights passers stand front brussels town hall rest histor asia news eu european union international lgbt lgbtq news phuket poland thaila  \n",
       "447                                                                         poland common poland members european union eu north atlantic treaty organization nato details visit link poland  \n",
       "138                                                                                                             eu launches legal action poland lgbt rights europeanunion poland humanrights  "
      ]
     },
     "execution_count": 44,
     "metadata": {},
     "output_type": "execute_result"
    }
   ],
   "source": [
    "tweet_topic_matrix_df.sort_values(by = ['topic_2'], ascending=False).head(5)"
   ]
  },
  {
   "cell_type": "code",
   "execution_count": 45,
   "metadata": {},
   "outputs": [],
   "source": [
    "topic_word = pd.DataFrame(nmf.components_.round(3),\n",
    "             index = ['topic_0','topic_1','topic_2','topic_3','topic_4','topic_5','topic_6','topic_7', 'topic_8',\n",
    "                      'topic_9'],\n",
    "             columns = vectorizer.get_feature_names())"
   ]
  },
  {
   "cell_type": "code",
   "execution_count": 46,
   "metadata": {},
   "outputs": [
    {
     "data": {
      "text/html": [
       "<div>\n",
       "<style scoped>\n",
       "    .dataframe tbody tr th:only-of-type {\n",
       "        vertical-align: middle;\n",
       "    }\n",
       "\n",
       "    .dataframe tbody tr th {\n",
       "        vertical-align: top;\n",
       "    }\n",
       "\n",
       "    .dataframe thead th {\n",
       "        text-align: right;\n",
       "    }\n",
       "</style>\n",
       "<table border=\"1\" class=\"dataframe\">\n",
       "  <thead>\n",
       "    <tr style=\"text-align: right;\">\n",
       "      <th></th>\n",
       "      <th>aa</th>\n",
       "      <th>aaahh</th>\n",
       "      <th>abandon</th>\n",
       "      <th>abandoned</th>\n",
       "      <th>abazina</th>\n",
       "      <th>abazinia</th>\n",
       "      <th>abbottnews</th>\n",
       "      <th>abc</th>\n",
       "      <th>abkhaz</th>\n",
       "      <th>abkhazia</th>\n",
       "      <th>...</th>\n",
       "      <th>zoe</th>\n",
       "      <th>zoltan</th>\n",
       "      <th>zoltanspox</th>\n",
       "      <th>zone</th>\n",
       "      <th>zones</th>\n",
       "      <th>zoo</th>\n",
       "      <th>zsa</th>\n",
       "      <th>zsazsa</th>\n",
       "      <th>zsazsagabor</th>\n",
       "      <th>zygmunt</th>\n",
       "    </tr>\n",
       "  </thead>\n",
       "  <tbody>\n",
       "    <tr>\n",
       "      <th>topic_0</th>\n",
       "      <td>0.000</td>\n",
       "      <td>0.0</td>\n",
       "      <td>0.064</td>\n",
       "      <td>0.000</td>\n",
       "      <td>0.000</td>\n",
       "      <td>0.000</td>\n",
       "      <td>0.000</td>\n",
       "      <td>0.000</td>\n",
       "      <td>0.000</td>\n",
       "      <td>0.000</td>\n",
       "      <td>...</td>\n",
       "      <td>0.000</td>\n",
       "      <td>0.000</td>\n",
       "      <td>0.007</td>\n",
       "      <td>0.000</td>\n",
       "      <td>0.000</td>\n",
       "      <td>0.000</td>\n",
       "      <td>0.000</td>\n",
       "      <td>0.000</td>\n",
       "      <td>0.0</td>\n",
       "      <td>0.000</td>\n",
       "    </tr>\n",
       "    <tr>\n",
       "      <th>topic_1</th>\n",
       "      <td>0.000</td>\n",
       "      <td>0.0</td>\n",
       "      <td>0.006</td>\n",
       "      <td>0.000</td>\n",
       "      <td>0.000</td>\n",
       "      <td>0.000</td>\n",
       "      <td>0.000</td>\n",
       "      <td>0.020</td>\n",
       "      <td>0.000</td>\n",
       "      <td>0.000</td>\n",
       "      <td>...</td>\n",
       "      <td>0.000</td>\n",
       "      <td>0.000</td>\n",
       "      <td>0.002</td>\n",
       "      <td>0.011</td>\n",
       "      <td>0.019</td>\n",
       "      <td>0.000</td>\n",
       "      <td>0.000</td>\n",
       "      <td>0.000</td>\n",
       "      <td>0.0</td>\n",
       "      <td>0.000</td>\n",
       "    </tr>\n",
       "    <tr>\n",
       "      <th>topic_2</th>\n",
       "      <td>0.000</td>\n",
       "      <td>0.0</td>\n",
       "      <td>0.000</td>\n",
       "      <td>0.000</td>\n",
       "      <td>0.000</td>\n",
       "      <td>0.000</td>\n",
       "      <td>0.000</td>\n",
       "      <td>0.000</td>\n",
       "      <td>0.000</td>\n",
       "      <td>0.000</td>\n",
       "      <td>...</td>\n",
       "      <td>0.000</td>\n",
       "      <td>0.000</td>\n",
       "      <td>0.000</td>\n",
       "      <td>0.032</td>\n",
       "      <td>0.172</td>\n",
       "      <td>0.000</td>\n",
       "      <td>0.000</td>\n",
       "      <td>0.000</td>\n",
       "      <td>0.0</td>\n",
       "      <td>0.011</td>\n",
       "    </tr>\n",
       "    <tr>\n",
       "      <th>topic_3</th>\n",
       "      <td>0.000</td>\n",
       "      <td>0.0</td>\n",
       "      <td>0.046</td>\n",
       "      <td>0.000</td>\n",
       "      <td>0.000</td>\n",
       "      <td>0.000</td>\n",
       "      <td>0.000</td>\n",
       "      <td>0.000</td>\n",
       "      <td>0.000</td>\n",
       "      <td>0.000</td>\n",
       "      <td>...</td>\n",
       "      <td>0.011</td>\n",
       "      <td>0.000</td>\n",
       "      <td>0.000</td>\n",
       "      <td>0.007</td>\n",
       "      <td>0.016</td>\n",
       "      <td>0.000</td>\n",
       "      <td>0.000</td>\n",
       "      <td>0.000</td>\n",
       "      <td>0.0</td>\n",
       "      <td>0.000</td>\n",
       "    </tr>\n",
       "    <tr>\n",
       "      <th>topic_4</th>\n",
       "      <td>0.001</td>\n",
       "      <td>0.0</td>\n",
       "      <td>0.000</td>\n",
       "      <td>0.000</td>\n",
       "      <td>0.000</td>\n",
       "      <td>0.000</td>\n",
       "      <td>0.015</td>\n",
       "      <td>0.000</td>\n",
       "      <td>0.000</td>\n",
       "      <td>0.000</td>\n",
       "      <td>...</td>\n",
       "      <td>0.000</td>\n",
       "      <td>0.015</td>\n",
       "      <td>0.000</td>\n",
       "      <td>0.000</td>\n",
       "      <td>0.000</td>\n",
       "      <td>0.015</td>\n",
       "      <td>0.064</td>\n",
       "      <td>0.014</td>\n",
       "      <td>0.0</td>\n",
       "      <td>0.000</td>\n",
       "    </tr>\n",
       "    <tr>\n",
       "      <th>topic_5</th>\n",
       "      <td>0.000</td>\n",
       "      <td>0.0</td>\n",
       "      <td>0.000</td>\n",
       "      <td>0.000</td>\n",
       "      <td>0.000</td>\n",
       "      <td>0.000</td>\n",
       "      <td>0.000</td>\n",
       "      <td>0.000</td>\n",
       "      <td>0.000</td>\n",
       "      <td>0.000</td>\n",
       "      <td>...</td>\n",
       "      <td>0.000</td>\n",
       "      <td>0.000</td>\n",
       "      <td>0.046</td>\n",
       "      <td>0.000</td>\n",
       "      <td>0.038</td>\n",
       "      <td>0.000</td>\n",
       "      <td>0.000</td>\n",
       "      <td>0.000</td>\n",
       "      <td>0.0</td>\n",
       "      <td>0.000</td>\n",
       "    </tr>\n",
       "    <tr>\n",
       "      <th>topic_6</th>\n",
       "      <td>0.001</td>\n",
       "      <td>0.0</td>\n",
       "      <td>0.000</td>\n",
       "      <td>0.035</td>\n",
       "      <td>0.000</td>\n",
       "      <td>0.000</td>\n",
       "      <td>0.000</td>\n",
       "      <td>0.000</td>\n",
       "      <td>0.000</td>\n",
       "      <td>0.000</td>\n",
       "      <td>...</td>\n",
       "      <td>0.000</td>\n",
       "      <td>0.000</td>\n",
       "      <td>0.016</td>\n",
       "      <td>0.012</td>\n",
       "      <td>0.008</td>\n",
       "      <td>0.000</td>\n",
       "      <td>0.004</td>\n",
       "      <td>0.000</td>\n",
       "      <td>0.0</td>\n",
       "      <td>0.015</td>\n",
       "    </tr>\n",
       "    <tr>\n",
       "      <th>topic_7</th>\n",
       "      <td>0.000</td>\n",
       "      <td>0.0</td>\n",
       "      <td>0.000</td>\n",
       "      <td>0.009</td>\n",
       "      <td>0.000</td>\n",
       "      <td>0.000</td>\n",
       "      <td>0.000</td>\n",
       "      <td>0.003</td>\n",
       "      <td>0.000</td>\n",
       "      <td>0.000</td>\n",
       "      <td>...</td>\n",
       "      <td>0.000</td>\n",
       "      <td>0.000</td>\n",
       "      <td>0.000</td>\n",
       "      <td>0.000</td>\n",
       "      <td>0.020</td>\n",
       "      <td>0.000</td>\n",
       "      <td>0.000</td>\n",
       "      <td>0.000</td>\n",
       "      <td>0.0</td>\n",
       "      <td>0.000</td>\n",
       "    </tr>\n",
       "    <tr>\n",
       "      <th>topic_8</th>\n",
       "      <td>0.002</td>\n",
       "      <td>0.0</td>\n",
       "      <td>0.000</td>\n",
       "      <td>0.000</td>\n",
       "      <td>0.001</td>\n",
       "      <td>0.001</td>\n",
       "      <td>0.000</td>\n",
       "      <td>0.000</td>\n",
       "      <td>0.001</td>\n",
       "      <td>0.001</td>\n",
       "      <td>...</td>\n",
       "      <td>0.000</td>\n",
       "      <td>0.000</td>\n",
       "      <td>0.000</td>\n",
       "      <td>0.000</td>\n",
       "      <td>0.000</td>\n",
       "      <td>0.000</td>\n",
       "      <td>0.004</td>\n",
       "      <td>0.000</td>\n",
       "      <td>0.0</td>\n",
       "      <td>0.002</td>\n",
       "    </tr>\n",
       "    <tr>\n",
       "      <th>topic_9</th>\n",
       "      <td>0.000</td>\n",
       "      <td>0.0</td>\n",
       "      <td>0.008</td>\n",
       "      <td>0.009</td>\n",
       "      <td>0.000</td>\n",
       "      <td>0.000</td>\n",
       "      <td>0.000</td>\n",
       "      <td>0.000</td>\n",
       "      <td>0.000</td>\n",
       "      <td>0.000</td>\n",
       "      <td>...</td>\n",
       "      <td>0.000</td>\n",
       "      <td>0.000</td>\n",
       "      <td>0.009</td>\n",
       "      <td>0.000</td>\n",
       "      <td>0.000</td>\n",
       "      <td>0.000</td>\n",
       "      <td>0.000</td>\n",
       "      <td>0.000</td>\n",
       "      <td>0.0</td>\n",
       "      <td>0.000</td>\n",
       "    </tr>\n",
       "  </tbody>\n",
       "</table>\n",
       "<p>10 rows × 6776 columns</p>\n",
       "</div>"
      ],
      "text/plain": [
       "            aa  aaahh  abandon  abandoned  abazina  abazinia  abbottnews  \\\n",
       "topic_0  0.000    0.0    0.064      0.000    0.000     0.000       0.000   \n",
       "topic_1  0.000    0.0    0.006      0.000    0.000     0.000       0.000   \n",
       "topic_2  0.000    0.0    0.000      0.000    0.000     0.000       0.000   \n",
       "topic_3  0.000    0.0    0.046      0.000    0.000     0.000       0.000   \n",
       "topic_4  0.001    0.0    0.000      0.000    0.000     0.000       0.015   \n",
       "topic_5  0.000    0.0    0.000      0.000    0.000     0.000       0.000   \n",
       "topic_6  0.001    0.0    0.000      0.035    0.000     0.000       0.000   \n",
       "topic_7  0.000    0.0    0.000      0.009    0.000     0.000       0.000   \n",
       "topic_8  0.002    0.0    0.000      0.000    0.001     0.001       0.000   \n",
       "topic_9  0.000    0.0    0.008      0.009    0.000     0.000       0.000   \n",
       "\n",
       "           abc  abkhaz  abkhazia  ...    zoe  zoltan  zoltanspox   zone  \\\n",
       "topic_0  0.000   0.000     0.000  ...  0.000   0.000       0.007  0.000   \n",
       "topic_1  0.020   0.000     0.000  ...  0.000   0.000       0.002  0.011   \n",
       "topic_2  0.000   0.000     0.000  ...  0.000   0.000       0.000  0.032   \n",
       "topic_3  0.000   0.000     0.000  ...  0.011   0.000       0.000  0.007   \n",
       "topic_4  0.000   0.000     0.000  ...  0.000   0.015       0.000  0.000   \n",
       "topic_5  0.000   0.000     0.000  ...  0.000   0.000       0.046  0.000   \n",
       "topic_6  0.000   0.000     0.000  ...  0.000   0.000       0.016  0.012   \n",
       "topic_7  0.003   0.000     0.000  ...  0.000   0.000       0.000  0.000   \n",
       "topic_8  0.000   0.001     0.001  ...  0.000   0.000       0.000  0.000   \n",
       "topic_9  0.000   0.000     0.000  ...  0.000   0.000       0.009  0.000   \n",
       "\n",
       "         zones    zoo    zsa  zsazsa  zsazsagabor  zygmunt  \n",
       "topic_0  0.000  0.000  0.000   0.000          0.0    0.000  \n",
       "topic_1  0.019  0.000  0.000   0.000          0.0    0.000  \n",
       "topic_2  0.172  0.000  0.000   0.000          0.0    0.011  \n",
       "topic_3  0.016  0.000  0.000   0.000          0.0    0.000  \n",
       "topic_4  0.000  0.015  0.064   0.014          0.0    0.000  \n",
       "topic_5  0.038  0.000  0.000   0.000          0.0    0.000  \n",
       "topic_6  0.008  0.000  0.004   0.000          0.0    0.015  \n",
       "topic_7  0.020  0.000  0.000   0.000          0.0    0.000  \n",
       "topic_8  0.000  0.000  0.004   0.000          0.0    0.002  \n",
       "topic_9  0.000  0.000  0.000   0.000          0.0    0.000  \n",
       "\n",
       "[10 rows x 6776 columns]"
      ]
     },
     "execution_count": 46,
     "metadata": {},
     "output_type": "execute_result"
    }
   ],
   "source": [
    "topic_word"
   ]
  },
  {
   "cell_type": "code",
   "execution_count": 47,
   "metadata": {},
   "outputs": [],
   "source": [
    "def display_topics(model, feature_names, no_top_words, topic_names=None):\n",
    "    for ix, topic in enumerate(model.components_):\n",
    "        if not topic_names or not topic_names[ix]:\n",
    "            print(\"\\nTopic \", ix)\n",
    "        else:\n",
    "            print(\"\\nTopic: '\",topic_names[ix],\"'\")\n",
    "        print(\", \".join([feature_names[i]\n",
    "                        for i in topic.argsort()[:-no_top_words - 1:-1]]))"
   ]
  },
  {
   "cell_type": "code",
   "execution_count": 48,
   "metadata": {},
   "outputs": [
    {
     "name": "stdout",
     "output_type": "stream",
     "text": [
      "\n",
      "Topic  0\n",
      "eu, commission, orban, viktor, recovery, like, values, funds, vonderleyen, orb\n",
      "\n",
      "Topic  1\n",
      "law, lgbt, anti, action, parliament, demand, take, effect, protest, fight\n",
      "\n",
      "Topic  2\n",
      "poland, rights, legal, commission, action, fundamental, lgbtiq, european, people, violations\n",
      "\n",
      "Topic  3\n",
      "new, cases, recovered, confirmed, deaths, today, time, coronavirus, increase, update\n",
      "\n",
      "Topic  4\n",
      "budapest, summer, parliament, city, travel, dailynewshungary, first, international, tourism, step\n",
      "\n",
      "Topic  5\n",
      "lgbtq, orban, schools, let, activists, laws, anti, parliament, says, action\n",
      "\n",
      "Topic  6\n",
      "amp, news, community, information, inspiration, enjoy, portal, expat, commission, en\n",
      "\n",
      "Topic  7\n",
      "children, book, lgbt, families, fined, bookshop, chain, picture, family, parents\n",
      "\n",
      "Topic  8\n",
      "europe, france, romania, austria, canada, germany, greece, italy, portugal, language\n",
      "\n",
      "Topic  9\n",
      "great, southern, transdanubia, plain, due, severeweather, cet, ending, central, northern\n"
     ]
    }
   ],
   "source": [
    "display_topics(nmf, vectorizer.get_feature_names(), 10)"
   ]
  },
  {
   "cell_type": "code",
   "execution_count": 49,
   "metadata": {},
   "outputs": [
    {
     "data": {
      "text/plain": [
       "Index(['topic_0', 'topic_1', 'topic_2', 'topic_3', 'topic_4', 'topic_5',\n",
       "       'topic_6', 'topic_7', 'topic_8', 'topic_9', 'raw_tweets',\n",
       "       'clean_tweets'],\n",
       "      dtype='object')"
      ]
     },
     "execution_count": 49,
     "metadata": {},
     "output_type": "execute_result"
    }
   ],
   "source": [
    "tweet_topic_matrix_df.columns"
   ]
  },
  {
   "cell_type": "code",
   "execution_count": 50,
   "metadata": {},
   "outputs": [],
   "source": [
    "tweet_topic_matrix_df = tweet_topic_matrix_df.rename(columns={'topic_0' : 'EU_HU', 'topic_1': 'Anti_LGBT', 'topic_2':'Poland', \n",
    "                                      'topic_3':'Coronavirus', 'topic_4':'Tourism', 'topic_5':'Sex_edu',\n",
    "                                      'topic_6': 'Mix', 'topic_7': 'Book_censure', 'topic_8':'International_news', \n",
    "                                      'topic_9': 'Weather'})\n"
   ]
  },
  {
   "cell_type": "code",
   "execution_count": 51,
   "metadata": {},
   "outputs": [],
   "source": [
    "tweet_topic_matrix_df['main_topic'] = tweet_topic_matrix_df.max(axis=1)"
   ]
  },
  {
   "cell_type": "code",
   "execution_count": 52,
   "metadata": {},
   "outputs": [],
   "source": [
    "tweet_topic_matrix_df['main_topic_id'] = tweet_topic_matrix_df[['EU_HU', 'Anti_LGBT', 'Poland', 'Coronavirus', \n",
    "                                                                'Tourism', 'Sex_edu','Mix', 'Book_censure', \n",
    "                                                                'International_news', 'Weather']].idxmax(axis=1)"
   ]
  },
  {
   "cell_type": "code",
   "execution_count": 53,
   "metadata": {},
   "outputs": [
    {
     "data": {
      "text/html": [
       "<div>\n",
       "<style scoped>\n",
       "    .dataframe tbody tr th:only-of-type {\n",
       "        vertical-align: middle;\n",
       "    }\n",
       "\n",
       "    .dataframe tbody tr th {\n",
       "        vertical-align: top;\n",
       "    }\n",
       "\n",
       "    .dataframe thead th {\n",
       "        text-align: right;\n",
       "    }\n",
       "</style>\n",
       "<table border=\"1\" class=\"dataframe\">\n",
       "  <thead>\n",
       "    <tr style=\"text-align: right;\">\n",
       "      <th></th>\n",
       "      <th>EU_HU</th>\n",
       "      <th>Anti_LGBT</th>\n",
       "      <th>Poland</th>\n",
       "      <th>Coronavirus</th>\n",
       "      <th>Tourism</th>\n",
       "      <th>Sex_edu</th>\n",
       "      <th>Mix</th>\n",
       "      <th>Book_censure</th>\n",
       "      <th>International_news</th>\n",
       "      <th>Weather</th>\n",
       "      <th>raw_tweets</th>\n",
       "      <th>clean_tweets</th>\n",
       "      <th>main_topic</th>\n",
       "      <th>main_topic_id</th>\n",
       "    </tr>\n",
       "  </thead>\n",
       "  <tbody>\n",
       "    <tr>\n",
       "      <th>0</th>\n",
       "      <td>0.000000</td>\n",
       "      <td>0.0</td>\n",
       "      <td>0.016369</td>\n",
       "      <td>0.002946</td>\n",
       "      <td>0.017207</td>\n",
       "      <td>0.000000</td>\n",
       "      <td>0.019593</td>\n",
       "      <td>0.012855</td>\n",
       "      <td>0.068564</td>\n",
       "      <td>0.0</td>\n",
       "      <td>b'#Cocaine stash worth \\xe2\\x82\\xac9m lands on roof of home in Sardinia. \"Rizzo was working as a pilot for a #Hungary company and flying wealthy people around when he was arrested at Cagliari Elmas airport after landing a flight from Germany .\" https://t.co/LBxvqcurKK'</td>\n",
       "      <td>cocaine stash worth lands roof home sardinia rizzo working pilot company flying wealthy people around arrested cagliari elmas airport landing flight germany</td>\n",
       "      <td>0.068564</td>\n",
       "      <td>International_news</td>\n",
       "    </tr>\n",
       "    <tr>\n",
       "      <th>1</th>\n",
       "      <td>0.000406</td>\n",
       "      <td>0.0</td>\n",
       "      <td>0.000535</td>\n",
       "      <td>0.000322</td>\n",
       "      <td>0.000000</td>\n",
       "      <td>0.001042</td>\n",
       "      <td>0.003630</td>\n",
       "      <td>0.001550</td>\n",
       "      <td>0.000000</td>\n",
       "      <td>0.0</td>\n",
       "      <td>b'Hilarious \\xf0\\x9f\\xa4\\xa3 - Are you afraid of Sexual Harassment Panda? #Hungary https://t.co/vkFMBk3t8J'</td>\n",
       "      <td>hilarious afraid sexual harassment panda</td>\n",
       "      <td>0.003630</td>\n",
       "      <td>Mix</td>\n",
       "    </tr>\n",
       "    <tr>\n",
       "      <th>2</th>\n",
       "      <td>0.141600</td>\n",
       "      <td>0.0</td>\n",
       "      <td>0.331099</td>\n",
       "      <td>0.116986</td>\n",
       "      <td>0.000000</td>\n",
       "      <td>0.251801</td>\n",
       "      <td>0.000000</td>\n",
       "      <td>0.000000</td>\n",
       "      <td>0.000000</td>\n",
       "      <td>0.0</td>\n",
       "      <td>b'#EU takes legal action against #Hungary, #Poland over #LGBTQ rights The legal cases could eventually land the two member states in the bloc\\xe2\\x80\\x99s highest court. https://t.co/KFYGbprovF'</td>\n",
       "      <td>eu takes legal action poland lgbtq rights legal cases could eventually land two member states bloc highest court</td>\n",
       "      <td>0.331099</td>\n",
       "      <td>Poland</td>\n",
       "    </tr>\n",
       "  </tbody>\n",
       "</table>\n",
       "</div>"
      ],
      "text/plain": [
       "      EU_HU  Anti_LGBT    Poland  Coronavirus   Tourism   Sex_edu       Mix  \\\n",
       "0  0.000000        0.0  0.016369     0.002946  0.017207  0.000000  0.019593   \n",
       "1  0.000406        0.0  0.000535     0.000322  0.000000  0.001042  0.003630   \n",
       "2  0.141600        0.0  0.331099     0.116986  0.000000  0.251801  0.000000   \n",
       "\n",
       "   Book_censure  International_news  Weather  \\\n",
       "0      0.012855            0.068564      0.0   \n",
       "1      0.001550            0.000000      0.0   \n",
       "2      0.000000            0.000000      0.0   \n",
       "\n",
       "                                                                                                                                                                                                                                                                      raw_tweets  \\\n",
       "0  b'#Cocaine stash worth \\xe2\\x82\\xac9m lands on roof of home in Sardinia. \"Rizzo was working as a pilot for a #Hungary company and flying wealthy people around when he was arrested at Cagliari Elmas airport after landing a flight from Germany .\" https://t.co/LBxvqcurKK'   \n",
       "1                                                                                                                                                                    b'Hilarious \\xf0\\x9f\\xa4\\xa3 - Are you afraid of Sexual Harassment Panda? #Hungary https://t.co/vkFMBk3t8J'   \n",
       "2                                                                             b'#EU takes legal action against #Hungary, #Poland over #LGBTQ rights The legal cases could eventually land the two member states in the bloc\\xe2\\x80\\x99s highest court. https://t.co/KFYGbprovF'   \n",
       "\n",
       "                                                                                                                                                   clean_tweets  \\\n",
       "0  cocaine stash worth lands roof home sardinia rizzo working pilot company flying wealthy people around arrested cagliari elmas airport landing flight germany   \n",
       "1                                                                                                                      hilarious afraid sexual harassment panda   \n",
       "2                                              eu takes legal action poland lgbtq rights legal cases could eventually land two member states bloc highest court   \n",
       "\n",
       "   main_topic       main_topic_id  \n",
       "0    0.068564  International_news  \n",
       "1    0.003630                 Mix  \n",
       "2    0.331099              Poland  "
      ]
     },
     "execution_count": 53,
     "metadata": {},
     "output_type": "execute_result"
    }
   ],
   "source": [
    "tweet_topic_matrix_df.head(3)"
   ]
  },
  {
   "cell_type": "markdown",
   "metadata": {},
   "source": [
    "The topics are defined so lets see how they appeared in the different days of the week after the law came into effect."
   ]
  },
  {
   "cell_type": "code",
   "execution_count": 54,
   "metadata": {},
   "outputs": [],
   "source": [
    "def date_time_obj(text):\n",
    "    return datetime.strptime(text[2:10], '%y-%m-%d')"
   ]
  },
  {
   "cell_type": "code",
   "execution_count": 55,
   "metadata": {},
   "outputs": [],
   "source": [
    "df2['timestamp'] = df2['timestamp'].apply(date_time_obj)"
   ]
  },
  {
   "cell_type": "code",
   "execution_count": 56,
   "metadata": {
    "scrolled": true
   },
   "outputs": [
    {
     "data": {
      "text/html": [
       "<div>\n",
       "<style scoped>\n",
       "    .dataframe tbody tr th:only-of-type {\n",
       "        vertical-align: middle;\n",
       "    }\n",
       "\n",
       "    .dataframe tbody tr th {\n",
       "        vertical-align: top;\n",
       "    }\n",
       "\n",
       "    .dataframe thead th {\n",
       "        text-align: right;\n",
       "    }\n",
       "</style>\n",
       "<table border=\"1\" class=\"dataframe\">\n",
       "  <thead>\n",
       "    <tr style=\"text-align: right;\">\n",
       "      <th></th>\n",
       "      <th>timestamp</th>\n",
       "      <th>tweet_text</th>\n",
       "      <th>username</th>\n",
       "      <th>all_hashtags</th>\n",
       "      <th>followers_count</th>\n",
       "      <th>tweet_text_cleaned</th>\n",
       "    </tr>\n",
       "  </thead>\n",
       "  <tbody>\n",
       "    <tr>\n",
       "      <th>0</th>\n",
       "      <td>2021-07-15</td>\n",
       "      <td>b'#Cocaine stash worth \\xe2\\x82\\xac9m lands on roof of home in Sardinia. \"Rizzo was working as a pilot for a #Hungary company and flying wealthy people around when he was arrested at Cagliari Elmas airport after landing a flight from Germany .\" https://t.co/LBxvqcurKK'</td>\n",
       "      <td>b'antaldaniel'</td>\n",
       "      <td>['Cocaine', 'Hungary']</td>\n",
       "      <td>1488</td>\n",
       "      <td>cocaine stash worth lands roof home sardinia rizzo working pilot company flying wealthy people around arrested cagliari elmas airport landing flight germany</td>\n",
       "    </tr>\n",
       "    <tr>\n",
       "      <th>1</th>\n",
       "      <td>2021-07-15</td>\n",
       "      <td>b'Hilarious \\xf0\\x9f\\xa4\\xa3 - Are you afraid of Sexual Harassment Panda? #Hungary https://t.co/vkFMBk3t8J'</td>\n",
       "      <td>b'gaborcihlar'</td>\n",
       "      <td>['Hungary']</td>\n",
       "      <td>8</td>\n",
       "      <td>hilarious afraid sexual harassment panda</td>\n",
       "    </tr>\n",
       "    <tr>\n",
       "      <th>2</th>\n",
       "      <td>2021-07-15</td>\n",
       "      <td>b'#EU takes legal action against #Hungary, #Poland over #LGBTQ rights The legal cases could eventually land the two member states in the bloc\\xe2\\x80\\x99s highest court. https://t.co/KFYGbprovF'</td>\n",
       "      <td>b'VassilisTsarnas'</td>\n",
       "      <td>['EU', 'Hungary', 'Poland', 'LGBTQ']</td>\n",
       "      <td>2199</td>\n",
       "      <td>eu takes legal action poland lgbtq rights legal cases could eventually land two member states bloc highest court</td>\n",
       "    </tr>\n",
       "  </tbody>\n",
       "</table>\n",
       "</div>"
      ],
      "text/plain": [
       "   timestamp  \\\n",
       "0 2021-07-15   \n",
       "1 2021-07-15   \n",
       "2 2021-07-15   \n",
       "\n",
       "                                                                                                                                                                                                                                                                      tweet_text  \\\n",
       "0  b'#Cocaine stash worth \\xe2\\x82\\xac9m lands on roof of home in Sardinia. \"Rizzo was working as a pilot for a #Hungary company and flying wealthy people around when he was arrested at Cagliari Elmas airport after landing a flight from Germany .\" https://t.co/LBxvqcurKK'   \n",
       "1                                                                                                                                                                    b'Hilarious \\xf0\\x9f\\xa4\\xa3 - Are you afraid of Sexual Harassment Panda? #Hungary https://t.co/vkFMBk3t8J'   \n",
       "2                                                                             b'#EU takes legal action against #Hungary, #Poland over #LGBTQ rights The legal cases could eventually land the two member states in the bloc\\xe2\\x80\\x99s highest court. https://t.co/KFYGbprovF'   \n",
       "\n",
       "             username                          all_hashtags  followers_count  \\\n",
       "0      b'antaldaniel'                ['Cocaine', 'Hungary']             1488   \n",
       "1      b'gaborcihlar'                           ['Hungary']                8   \n",
       "2  b'VassilisTsarnas'  ['EU', 'Hungary', 'Poland', 'LGBTQ']             2199   \n",
       "\n",
       "                                                                                                                                             tweet_text_cleaned  \n",
       "0  cocaine stash worth lands roof home sardinia rizzo working pilot company flying wealthy people around arrested cagliari elmas airport landing flight germany  \n",
       "1                                                                                                                      hilarious afraid sexual harassment panda  \n",
       "2                                              eu takes legal action poland lgbtq rights legal cases could eventually land two member states bloc highest court  "
      ]
     },
     "execution_count": 56,
     "metadata": {},
     "output_type": "execute_result"
    }
   ],
   "source": [
    "df2.head(3)"
   ]
  },
  {
   "cell_type": "code",
   "execution_count": 57,
   "metadata": {},
   "outputs": [
    {
     "data": {
      "text/html": [
       "<div>\n",
       "<style scoped>\n",
       "    .dataframe tbody tr th:only-of-type {\n",
       "        vertical-align: middle;\n",
       "    }\n",
       "\n",
       "    .dataframe tbody tr th {\n",
       "        vertical-align: top;\n",
       "    }\n",
       "\n",
       "    .dataframe thead th {\n",
       "        text-align: right;\n",
       "    }\n",
       "</style>\n",
       "<table border=\"1\" class=\"dataframe\">\n",
       "  <thead>\n",
       "    <tr style=\"text-align: right;\">\n",
       "      <th></th>\n",
       "      <th>tweet_text</th>\n",
       "      <th>username</th>\n",
       "      <th>all_hashtags</th>\n",
       "      <th>followers_count</th>\n",
       "      <th>tweet_text_cleaned</th>\n",
       "    </tr>\n",
       "    <tr>\n",
       "      <th>timestamp</th>\n",
       "      <th></th>\n",
       "      <th></th>\n",
       "      <th></th>\n",
       "      <th></th>\n",
       "      <th></th>\n",
       "    </tr>\n",
       "  </thead>\n",
       "  <tbody>\n",
       "    <tr>\n",
       "      <th>2021-07-07</th>\n",
       "      <td>62</td>\n",
       "      <td>62</td>\n",
       "      <td>62</td>\n",
       "      <td>62</td>\n",
       "      <td>62</td>\n",
       "    </tr>\n",
       "    <tr>\n",
       "      <th>2021-07-08</th>\n",
       "      <td>301</td>\n",
       "      <td>301</td>\n",
       "      <td>301</td>\n",
       "      <td>301</td>\n",
       "      <td>301</td>\n",
       "    </tr>\n",
       "    <tr>\n",
       "      <th>2021-07-09</th>\n",
       "      <td>208</td>\n",
       "      <td>208</td>\n",
       "      <td>208</td>\n",
       "      <td>208</td>\n",
       "      <td>208</td>\n",
       "    </tr>\n",
       "    <tr>\n",
       "      <th>2021-07-10</th>\n",
       "      <td>118</td>\n",
       "      <td>118</td>\n",
       "      <td>118</td>\n",
       "      <td>118</td>\n",
       "      <td>118</td>\n",
       "    </tr>\n",
       "    <tr>\n",
       "      <th>2021-07-11</th>\n",
       "      <td>117</td>\n",
       "      <td>117</td>\n",
       "      <td>117</td>\n",
       "      <td>117</td>\n",
       "      <td>117</td>\n",
       "    </tr>\n",
       "    <tr>\n",
       "      <th>2021-07-12</th>\n",
       "      <td>160</td>\n",
       "      <td>160</td>\n",
       "      <td>160</td>\n",
       "      <td>160</td>\n",
       "      <td>160</td>\n",
       "    </tr>\n",
       "    <tr>\n",
       "      <th>2021-07-13</th>\n",
       "      <td>103</td>\n",
       "      <td>103</td>\n",
       "      <td>103</td>\n",
       "      <td>103</td>\n",
       "      <td>103</td>\n",
       "    </tr>\n",
       "    <tr>\n",
       "      <th>2021-07-14</th>\n",
       "      <td>122</td>\n",
       "      <td>122</td>\n",
       "      <td>122</td>\n",
       "      <td>122</td>\n",
       "      <td>122</td>\n",
       "    </tr>\n",
       "    <tr>\n",
       "      <th>2021-07-15</th>\n",
       "      <td>204</td>\n",
       "      <td>204</td>\n",
       "      <td>204</td>\n",
       "      <td>204</td>\n",
       "      <td>204</td>\n",
       "    </tr>\n",
       "  </tbody>\n",
       "</table>\n",
       "</div>"
      ],
      "text/plain": [
       "            tweet_text  username  all_hashtags  followers_count  \\\n",
       "timestamp                                                         \n",
       "2021-07-07          62        62            62               62   \n",
       "2021-07-08         301       301           301              301   \n",
       "2021-07-09         208       208           208              208   \n",
       "2021-07-10         118       118           118              118   \n",
       "2021-07-11         117       117           117              117   \n",
       "2021-07-12         160       160           160              160   \n",
       "2021-07-13         103       103           103              103   \n",
       "2021-07-14         122       122           122              122   \n",
       "2021-07-15         204       204           204              204   \n",
       "\n",
       "            tweet_text_cleaned  \n",
       "timestamp                       \n",
       "2021-07-07                  62  \n",
       "2021-07-08                 301  \n",
       "2021-07-09                 208  \n",
       "2021-07-10                 118  \n",
       "2021-07-11                 117  \n",
       "2021-07-12                 160  \n",
       "2021-07-13                 103  \n",
       "2021-07-14                 122  \n",
       "2021-07-15                 204  "
      ]
     },
     "execution_count": 57,
     "metadata": {},
     "output_type": "execute_result"
    }
   ],
   "source": [
    "df2.groupby('timestamp').count()"
   ]
  },
  {
   "cell_type": "markdown",
   "metadata": {},
   "source": [
    "# Sentiment analysis"
   ]
  },
  {
   "cell_type": "code",
   "execution_count": 58,
   "metadata": {},
   "outputs": [],
   "source": [
    "def sent_polar(text):\n",
    "    test_pol = TextBlob(text)\n",
    "    return test_pol.sentiment.polarity"
   ]
  },
  {
   "cell_type": "code",
   "execution_count": 59,
   "metadata": {},
   "outputs": [],
   "source": [
    "df2['sent_polarity'] = df2.tweet_text_cleaned.apply(sent_polar)"
   ]
  },
  {
   "cell_type": "code",
   "execution_count": 60,
   "metadata": {},
   "outputs": [],
   "source": [
    "def sent_pol_bi(num):\n",
    "    if num > 0:\n",
    "        return 1\n",
    "    else:\n",
    "        return -1"
   ]
  },
  {
   "cell_type": "code",
   "execution_count": 61,
   "metadata": {},
   "outputs": [],
   "source": [
    "df2['sent_pol_bi'] = df2.sent_polarity.apply(sent_pol_bi)"
   ]
  },
  {
   "cell_type": "code",
   "execution_count": 62,
   "metadata": {},
   "outputs": [],
   "source": [
    "def sent_subj(text):\n",
    "    test_pol = TextBlob(text)\n",
    "    return test_pol.sentiment.subjectivity"
   ]
  },
  {
   "cell_type": "code",
   "execution_count": 63,
   "metadata": {},
   "outputs": [],
   "source": [
    "df2['sent_subject'] = df2.tweet_text_cleaned.apply(sent_subj)"
   ]
  },
  {
   "cell_type": "code",
   "execution_count": 64,
   "metadata": {},
   "outputs": [
    {
     "data": {
      "text/html": [
       "<div>\n",
       "<style scoped>\n",
       "    .dataframe tbody tr th:only-of-type {\n",
       "        vertical-align: middle;\n",
       "    }\n",
       "\n",
       "    .dataframe tbody tr th {\n",
       "        vertical-align: top;\n",
       "    }\n",
       "\n",
       "    .dataframe thead th {\n",
       "        text-align: right;\n",
       "    }\n",
       "</style>\n",
       "<table border=\"1\" class=\"dataframe\">\n",
       "  <thead>\n",
       "    <tr style=\"text-align: right;\">\n",
       "      <th></th>\n",
       "      <th>timestamp</th>\n",
       "      <th>tweet_text</th>\n",
       "      <th>username</th>\n",
       "      <th>all_hashtags</th>\n",
       "      <th>followers_count</th>\n",
       "      <th>tweet_text_cleaned</th>\n",
       "      <th>sent_polarity</th>\n",
       "      <th>sent_pol_bi</th>\n",
       "      <th>sent_subject</th>\n",
       "    </tr>\n",
       "  </thead>\n",
       "  <tbody>\n",
       "    <tr>\n",
       "      <th>0</th>\n",
       "      <td>2021-07-15</td>\n",
       "      <td>b'#Cocaine stash worth \\xe2\\x82\\xac9m lands on roof of home in Sardinia. \"Rizzo was working as a pilot for a #Hungary company and flying wealthy people around when he was arrested at Cagliari Elmas airport after landing a flight from Germany .\" https://t.co/LBxvqcurKK'</td>\n",
       "      <td>b'antaldaniel'</td>\n",
       "      <td>['Cocaine', 'Hungary']</td>\n",
       "      <td>1488</td>\n",
       "      <td>cocaine stash worth lands roof home sardinia rizzo working pilot company flying wealthy people around arrested cagliari elmas airport landing flight germany</td>\n",
       "      <td>0.400000</td>\n",
       "      <td>1</td>\n",
       "      <td>0.550000</td>\n",
       "    </tr>\n",
       "    <tr>\n",
       "      <th>1</th>\n",
       "      <td>2021-07-15</td>\n",
       "      <td>b'Hilarious \\xf0\\x9f\\xa4\\xa3 - Are you afraid of Sexual Harassment Panda? #Hungary https://t.co/vkFMBk3t8J'</td>\n",
       "      <td>b'gaborcihlar'</td>\n",
       "      <td>['Hungary']</td>\n",
       "      <td>8</td>\n",
       "      <td>hilarious afraid sexual harassment panda</td>\n",
       "      <td>0.133333</td>\n",
       "      <td>1</td>\n",
       "      <td>0.911111</td>\n",
       "    </tr>\n",
       "    <tr>\n",
       "      <th>2</th>\n",
       "      <td>2021-07-15</td>\n",
       "      <td>b'#EU takes legal action against #Hungary, #Poland over #LGBTQ rights The legal cases could eventually land the two member states in the bloc\\xe2\\x80\\x99s highest court. https://t.co/KFYGbprovF'</td>\n",
       "      <td>b'VassilisTsarnas'</td>\n",
       "      <td>['EU', 'Hungary', 'Poland', 'LGBTQ']</td>\n",
       "      <td>2199</td>\n",
       "      <td>eu takes legal action poland lgbtq rights legal cases could eventually land two member states bloc highest court</td>\n",
       "      <td>0.166667</td>\n",
       "      <td>1</td>\n",
       "      <td>0.166667</td>\n",
       "    </tr>\n",
       "  </tbody>\n",
       "</table>\n",
       "</div>"
      ],
      "text/plain": [
       "   timestamp  \\\n",
       "0 2021-07-15   \n",
       "1 2021-07-15   \n",
       "2 2021-07-15   \n",
       "\n",
       "                                                                                                                                                                                                                                                                      tweet_text  \\\n",
       "0  b'#Cocaine stash worth \\xe2\\x82\\xac9m lands on roof of home in Sardinia. \"Rizzo was working as a pilot for a #Hungary company and flying wealthy people around when he was arrested at Cagliari Elmas airport after landing a flight from Germany .\" https://t.co/LBxvqcurKK'   \n",
       "1                                                                                                                                                                    b'Hilarious \\xf0\\x9f\\xa4\\xa3 - Are you afraid of Sexual Harassment Panda? #Hungary https://t.co/vkFMBk3t8J'   \n",
       "2                                                                             b'#EU takes legal action against #Hungary, #Poland over #LGBTQ rights The legal cases could eventually land the two member states in the bloc\\xe2\\x80\\x99s highest court. https://t.co/KFYGbprovF'   \n",
       "\n",
       "             username                          all_hashtags  followers_count  \\\n",
       "0      b'antaldaniel'                ['Cocaine', 'Hungary']             1488   \n",
       "1      b'gaborcihlar'                           ['Hungary']                8   \n",
       "2  b'VassilisTsarnas'  ['EU', 'Hungary', 'Poland', 'LGBTQ']             2199   \n",
       "\n",
       "                                                                                                                                             tweet_text_cleaned  \\\n",
       "0  cocaine stash worth lands roof home sardinia rizzo working pilot company flying wealthy people around arrested cagliari elmas airport landing flight germany   \n",
       "1                                                                                                                      hilarious afraid sexual harassment panda   \n",
       "2                                              eu takes legal action poland lgbtq rights legal cases could eventually land two member states bloc highest court   \n",
       "\n",
       "   sent_polarity  sent_pol_bi  sent_subject  \n",
       "0       0.400000            1      0.550000  \n",
       "1       0.133333            1      0.911111  \n",
       "2       0.166667            1      0.166667  "
      ]
     },
     "execution_count": 64,
     "metadata": {},
     "output_type": "execute_result"
    }
   ],
   "source": [
    "df2.head(3).head(3)"
   ]
  },
  {
   "cell_type": "code",
   "execution_count": 65,
   "metadata": {},
   "outputs": [],
   "source": [
    "df_total = pd.concat([df2, tweet_topic_matrix_df], axis=1, join=\"inner\")"
   ]
  },
  {
   "cell_type": "code",
   "execution_count": 66,
   "metadata": {},
   "outputs": [
    {
     "data": {
      "text/plain": [
       "Index(['timestamp', 'tweet_text', 'username', 'all_hashtags',\n",
       "       'followers_count', 'tweet_text_cleaned', 'sent_polarity', 'sent_pol_bi',\n",
       "       'sent_subject', 'EU_HU', 'Anti_LGBT', 'Poland', 'Coronavirus',\n",
       "       'Tourism', 'Sex_edu', 'Mix', 'Book_censure', 'International_news',\n",
       "       'Weather', 'raw_tweets', 'clean_tweets', 'main_topic', 'main_topic_id'],\n",
       "      dtype='object')"
      ]
     },
     "execution_count": 66,
     "metadata": {},
     "output_type": "execute_result"
    }
   ],
   "source": [
    "df_total.columns"
   ]
  },
  {
   "cell_type": "code",
   "execution_count": 67,
   "metadata": {},
   "outputs": [],
   "source": [
    "df_total_cleaned = df_total[['timestamp', 'tweet_text','tweet_text_cleaned', 'sent_polarity', 'sent_pol_bi',\n",
    "                             'sent_subject', 'EU_HU', 'Anti_LGBT', 'Poland', 'Coronavirus','Tourism', 'Sex_edu', \n",
    "                             'Mix', 'Book_censure', 'International_news','Weather','main_topic', 'main_topic_id']]"
   ]
  },
  {
   "cell_type": "code",
   "execution_count": 68,
   "metadata": {},
   "outputs": [
    {
     "data": {
      "text/html": [
       "<div>\n",
       "<style scoped>\n",
       "    .dataframe tbody tr th:only-of-type {\n",
       "        vertical-align: middle;\n",
       "    }\n",
       "\n",
       "    .dataframe tbody tr th {\n",
       "        vertical-align: top;\n",
       "    }\n",
       "\n",
       "    .dataframe thead th {\n",
       "        text-align: right;\n",
       "    }\n",
       "</style>\n",
       "<table border=\"1\" class=\"dataframe\">\n",
       "  <thead>\n",
       "    <tr style=\"text-align: right;\">\n",
       "      <th></th>\n",
       "      <th>timestamp</th>\n",
       "      <th>tweet_text</th>\n",
       "      <th>tweet_text_cleaned</th>\n",
       "      <th>sent_polarity</th>\n",
       "      <th>sent_pol_bi</th>\n",
       "      <th>sent_subject</th>\n",
       "      <th>EU_HU</th>\n",
       "      <th>Anti_LGBT</th>\n",
       "      <th>Poland</th>\n",
       "      <th>Coronavirus</th>\n",
       "      <th>Tourism</th>\n",
       "      <th>Sex_edu</th>\n",
       "      <th>Mix</th>\n",
       "      <th>Book_censure</th>\n",
       "      <th>International_news</th>\n",
       "      <th>Weather</th>\n",
       "      <th>main_topic</th>\n",
       "      <th>main_topic_id</th>\n",
       "    </tr>\n",
       "  </thead>\n",
       "  <tbody>\n",
       "    <tr>\n",
       "      <th>0</th>\n",
       "      <td>2021-07-15</td>\n",
       "      <td>b'#Cocaine stash worth \\xe2\\x82\\xac9m lands on roof of home in Sardinia. \"Rizzo was working as a pilot for a #Hungary company and flying wealthy people around when he was arrested at Cagliari Elmas airport after landing a flight from Germany .\" https://t.co/LBxvqcurKK'</td>\n",
       "      <td>cocaine stash worth lands roof home sardinia rizzo working pilot company flying wealthy people around arrested cagliari elmas airport landing flight germany</td>\n",
       "      <td>0.400000</td>\n",
       "      <td>1</td>\n",
       "      <td>0.550000</td>\n",
       "      <td>0.000000</td>\n",
       "      <td>0.0</td>\n",
       "      <td>0.016369</td>\n",
       "      <td>0.002946</td>\n",
       "      <td>0.017207</td>\n",
       "      <td>0.000000</td>\n",
       "      <td>0.019593</td>\n",
       "      <td>0.012855</td>\n",
       "      <td>0.068564</td>\n",
       "      <td>0.0</td>\n",
       "      <td>0.068564</td>\n",
       "      <td>International_news</td>\n",
       "    </tr>\n",
       "    <tr>\n",
       "      <th>1</th>\n",
       "      <td>2021-07-15</td>\n",
       "      <td>b'Hilarious \\xf0\\x9f\\xa4\\xa3 - Are you afraid of Sexual Harassment Panda? #Hungary https://t.co/vkFMBk3t8J'</td>\n",
       "      <td>hilarious afraid sexual harassment panda</td>\n",
       "      <td>0.133333</td>\n",
       "      <td>1</td>\n",
       "      <td>0.911111</td>\n",
       "      <td>0.000406</td>\n",
       "      <td>0.0</td>\n",
       "      <td>0.000535</td>\n",
       "      <td>0.000322</td>\n",
       "      <td>0.000000</td>\n",
       "      <td>0.001042</td>\n",
       "      <td>0.003630</td>\n",
       "      <td>0.001550</td>\n",
       "      <td>0.000000</td>\n",
       "      <td>0.0</td>\n",
       "      <td>0.003630</td>\n",
       "      <td>Mix</td>\n",
       "    </tr>\n",
       "    <tr>\n",
       "      <th>2</th>\n",
       "      <td>2021-07-15</td>\n",
       "      <td>b'#EU takes legal action against #Hungary, #Poland over #LGBTQ rights The legal cases could eventually land the two member states in the bloc\\xe2\\x80\\x99s highest court. https://t.co/KFYGbprovF'</td>\n",
       "      <td>eu takes legal action poland lgbtq rights legal cases could eventually land two member states bloc highest court</td>\n",
       "      <td>0.166667</td>\n",
       "      <td>1</td>\n",
       "      <td>0.166667</td>\n",
       "      <td>0.141600</td>\n",
       "      <td>0.0</td>\n",
       "      <td>0.331099</td>\n",
       "      <td>0.116986</td>\n",
       "      <td>0.000000</td>\n",
       "      <td>0.251801</td>\n",
       "      <td>0.000000</td>\n",
       "      <td>0.000000</td>\n",
       "      <td>0.000000</td>\n",
       "      <td>0.0</td>\n",
       "      <td>0.331099</td>\n",
       "      <td>Poland</td>\n",
       "    </tr>\n",
       "  </tbody>\n",
       "</table>\n",
       "</div>"
      ],
      "text/plain": [
       "   timestamp  \\\n",
       "0 2021-07-15   \n",
       "1 2021-07-15   \n",
       "2 2021-07-15   \n",
       "\n",
       "                                                                                                                                                                                                                                                                      tweet_text  \\\n",
       "0  b'#Cocaine stash worth \\xe2\\x82\\xac9m lands on roof of home in Sardinia. \"Rizzo was working as a pilot for a #Hungary company and flying wealthy people around when he was arrested at Cagliari Elmas airport after landing a flight from Germany .\" https://t.co/LBxvqcurKK'   \n",
       "1                                                                                                                                                                    b'Hilarious \\xf0\\x9f\\xa4\\xa3 - Are you afraid of Sexual Harassment Panda? #Hungary https://t.co/vkFMBk3t8J'   \n",
       "2                                                                             b'#EU takes legal action against #Hungary, #Poland over #LGBTQ rights The legal cases could eventually land the two member states in the bloc\\xe2\\x80\\x99s highest court. https://t.co/KFYGbprovF'   \n",
       "\n",
       "                                                                                                                                             tweet_text_cleaned  \\\n",
       "0  cocaine stash worth lands roof home sardinia rizzo working pilot company flying wealthy people around arrested cagliari elmas airport landing flight germany   \n",
       "1                                                                                                                      hilarious afraid sexual harassment panda   \n",
       "2                                              eu takes legal action poland lgbtq rights legal cases could eventually land two member states bloc highest court   \n",
       "\n",
       "   sent_polarity  sent_pol_bi  sent_subject     EU_HU  Anti_LGBT    Poland  \\\n",
       "0       0.400000            1      0.550000  0.000000        0.0  0.016369   \n",
       "1       0.133333            1      0.911111  0.000406        0.0  0.000535   \n",
       "2       0.166667            1      0.166667  0.141600        0.0  0.331099   \n",
       "\n",
       "   Coronavirus   Tourism   Sex_edu       Mix  Book_censure  \\\n",
       "0     0.002946  0.017207  0.000000  0.019593      0.012855   \n",
       "1     0.000322  0.000000  0.001042  0.003630      0.001550   \n",
       "2     0.116986  0.000000  0.251801  0.000000      0.000000   \n",
       "\n",
       "   International_news  Weather  main_topic       main_topic_id  \n",
       "0            0.068564      0.0    0.068564  International_news  \n",
       "1            0.000000      0.0    0.003630                 Mix  \n",
       "2            0.000000      0.0    0.331099              Poland  "
      ]
     },
     "execution_count": 68,
     "metadata": {},
     "output_type": "execute_result"
    }
   ],
   "source": [
    "df_total_cleaned.head(3)"
   ]
  },
  {
   "cell_type": "code",
   "execution_count": 69,
   "metadata": {},
   "outputs": [],
   "source": [
    "df_total_cleaned.to_csv('df_total.csv')"
   ]
  },
  {
   "cell_type": "markdown",
   "metadata": {},
   "source": [
    "Please see visualisation of the results on the Tableau dashboard"
   ]
  }
 ],
 "metadata": {
  "kernelspec": {
   "display_name": "Python 3",
   "language": "python",
   "name": "python3"
  },
  "language_info": {
   "codemirror_mode": {
    "name": "ipython",
    "version": 3
   },
   "file_extension": ".py",
   "mimetype": "text/x-python",
   "name": "python",
   "nbconvert_exporter": "python",
   "pygments_lexer": "ipython3",
   "version": "3.8.5"
  }
 },
 "nbformat": 4,
 "nbformat_minor": 4
}
